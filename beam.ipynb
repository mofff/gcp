{
 "cells": [
  {
   "cell_type": "markdown",
   "metadata": {},
   "source": [
    "# Process data from OSIsoft PI Server via Google PubSub using Dataflow"
   ]
  },
  {
   "cell_type": "markdown",
   "metadata": {},
   "source": [
    "### Example slightly modified from Google DataFlow example: 02-Streaming_Word_count.ipynb"
   ]
  },
  {
   "cell_type": "code",
   "execution_count": 2,
   "metadata": {},
   "outputs": [],
   "source": [
    "import apache_beam as beam\n",
    "from apache_beam.runners.interactive.interactive_runner import InteractiveRunner\n",
    "import apache_beam.runners.interactive.interactive_beam as ib\n",
    "from apache_beam.options import pipeline_options\n",
    "from apache_beam.options.pipeline_options import GoogleCloudOptions\n",
    "from datetime import timedelta\n",
    "import google.auth\n",
    "import pandas as pd\n",
    "\n",
    "# The Google Cloud PubSub topic that we are reading from for this example.\n",
    "topic = \"projects/osi-pi-gcp-accelerator/topics/mof_explore_pubsub\""
   ]
  },
  {
   "cell_type": "code",
   "execution_count": 3,
   "metadata": {},
   "outputs": [],
   "source": [
    "# display all the data\n",
    "pd.set_option('display.max_rows', None)\n",
    "pd.set_option('display.max_columns', None)\n",
    "pd.set_option('display.width', None)\n",
    "pd.set_option('display.max_colwidth', -1)"
   ]
  },
  {
   "cell_type": "code",
   "execution_count": 4,
   "metadata": {},
   "outputs": [
    {
     "data": {
      "application/javascript": [
       "\n",
       "        if (typeof window.interactive_beam_jquery == 'undefined') {\n",
       "          var jqueryScript = document.createElement('script');\n",
       "          jqueryScript.src = 'https://code.jquery.com/jquery-3.4.1.slim.min.js';\n",
       "          jqueryScript.type = 'text/javascript';\n",
       "          jqueryScript.onload = function() {\n",
       "            var datatableScript = document.createElement('script');\n",
       "            datatableScript.src = 'https://cdn.datatables.net/1.10.20/js/jquery.dataTables.min.js';\n",
       "            datatableScript.type = 'text/javascript';\n",
       "            datatableScript.onload = function() {\n",
       "              window.interactive_beam_jquery = jQuery.noConflict(true);\n",
       "              window.interactive_beam_jquery(document).ready(function($){\n",
       "                \n",
       "              });\n",
       "            }\n",
       "            document.head.appendChild(datatableScript);\n",
       "          };\n",
       "          document.head.appendChild(jqueryScript);\n",
       "        } else {\n",
       "          window.interactive_beam_jquery(document).ready(function($){\n",
       "            \n",
       "          });\n",
       "        }"
      ]
     },
     "metadata": {},
     "output_type": "display_data"
    },
    {
     "data": {
      "application/javascript": [
       "\n",
       "        var import_html = () => {\n",
       "          ['https://raw.githubusercontent.com/PAIR-code/facets/1.0.0/facets-dist/facets-jupyter.html'].forEach(href => {\n",
       "            var link = document.createElement('link');\n",
       "            link.rel = 'import'\n",
       "            link.href = href;\n",
       "            document.head.appendChild(link);\n",
       "          });\n",
       "        }\n",
       "        if ('import' in document.createElement('link')) {\n",
       "          import_html();\n",
       "        } else {\n",
       "          var webcomponentScript = document.createElement('script');\n",
       "          webcomponentScript.src = 'https://cdnjs.cloudflare.com/ajax/libs/webcomponentsjs/1.3.3/webcomponents-lite.js';\n",
       "          webcomponentScript.type = 'text/javascript';\n",
       "          webcomponentScript.onload = function(){\n",
       "            import_html();\n",
       "          };\n",
       "          document.head.appendChild(webcomponentScript);\n",
       "        }"
      ]
     },
     "metadata": {},
     "output_type": "display_data"
    },
    {
     "data": {
      "text/html": [
       "\n",
       "            <link rel=\"stylesheet\" href=\"https://stackpath.bootstrapcdn.com/bootstrap/4.4.1/css/bootstrap.min.css\" integrity=\"sha384-Vkoo8x4CGsO3+Hhxv8T/Q5PaXtkKtu6ug5TOeNV6gBiFeWPGFN9MuhOf23Q9Ifjh\" crossorigin=\"anonymous\">\n",
       "            <div class=\"alert alert-info\">You have changed capture duration from 60.0 seconds to 600.0 seconds. To allow new data to be captured for the updated duration, the next time a PCollection is evaluated or the pipeline is executed, please invoke evict_captured_data().</div>"
      ],
      "text/plain": [
       "<IPython.core.display.HTML object>"
      ]
     },
     "metadata": {},
     "output_type": "display_data"
    }
   ],
   "source": [
    "ib.options.capture_duration = timedelta(seconds=600)"
   ]
  },
  {
   "cell_type": "code",
   "execution_count": 5,
   "metadata": {},
   "outputs": [],
   "source": [
    "# Setting up the Apache Beam pipeline options.\n",
    "options = pipeline_options.PipelineOptions()\n",
    "\n",
    "# Sets the pipeline mode to streaming, so we can stream the data from PubSub.\n",
    "options.view_as(pipeline_options.StandardOptions).streaming = True\n",
    "\n",
    "# Sets the project to the default project in your current Google Cloud environment.\n",
    "# The project will be used for creating a subscription to the Pub/Sub topic.\n",
    "_, options.view_as(GoogleCloudOptions).project = google.auth.default()"
   ]
  },
  {
   "cell_type": "code",
   "execution_count": 6,
   "metadata": {},
   "outputs": [],
   "source": [
    "# initialize pipeline\n",
    "p = beam.Pipeline(InteractiveRunner(), options=options)"
   ]
  },
  {
   "cell_type": "code",
   "execution_count": 7,
   "metadata": {},
   "outputs": [],
   "source": [
    "#beam.runners.interactive.options.capture_control.evict_captured_data()"
   ]
  },
  {
   "cell_type": "code",
   "execution_count": 8,
   "metadata": {},
   "outputs": [],
   "source": [
    "# create a subscription for specified topic\n",
    "stream = p | \"read\" >> beam.io.ReadFromPubSub(topic=topic)"
   ]
  },
  {
   "cell_type": "code",
   "execution_count": 7,
   "metadata": {},
   "outputs": [],
   "source": [
    "# window time in seconds\n",
    "windowed_stream = (stream \n",
    "                  | \"window\" >> beam.WindowInto(beam.window.FixedWindows(300)))"
   ]
  },
  {
   "cell_type": "code",
   "execution_count": 9,
   "metadata": {},
   "outputs": [],
   "source": [
    "#output = (windowed_stream\n",
    "  | \"retrieve\" >> beam.io.WriteToText(file_path_prefix='/home/jupyter'))"
   ]
  },
  {
   "cell_type": "code",
   "execution_count": null,
   "metadata": {},
   "outputs": [],
   "source": [
    "ib.show(windowed_stream, include_window_info=True)"
   ]
  },
  {
   "cell_type": "code",
   "execution_count": 8,
   "metadata": {},
   "outputs": [
    {
     "data": {
      "text/html": [
       "\n",
       "            <link rel=\"stylesheet\" href=\"https://stackpath.bootstrapcdn.com/bootstrap/4.4.1/css/bootstrap.min.css\" integrity=\"sha384-Vkoo8x4CGsO3+Hhxv8T/Q5PaXtkKtu6ug5TOeNV6gBiFeWPGFN9MuhOf23Q9Ifjh\" crossorigin=\"anonymous\">\n",
       "            <div id=\"progress_indicator_159b8e205e22ac45ba637a17c0703f86\" class=\"spinner-border text-info\" role=\"status\">\n",
       "            </div>"
      ],
      "text/plain": [
       "<IPython.core.display.HTML object>"
      ]
     },
     "metadata": {},
     "output_type": "display_data"
    },
    {
     "data": {
      "text/html": [
       "\n",
       "            <link rel=\"stylesheet\" href=\"https://stackpath.bootstrapcdn.com/bootstrap/4.4.1/css/bootstrap.min.css\" integrity=\"sha384-Vkoo8x4CGsO3+Hhxv8T/Q5PaXtkKtu6ug5TOeNV6gBiFeWPGFN9MuhOf23Q9Ifjh\" crossorigin=\"anonymous\">\n",
       "            <div class=\"alert alert-info\">Interactive Beam has detected unbounded sources in your pipeline. In order to have a deterministic replay, a segment of data will be recorded from all sources for 600.0 seconds or until a total of 1.0GB have been written to disk.</div>"
      ],
      "text/plain": [
       "<IPython.core.display.HTML object>"
      ]
     },
     "metadata": {},
     "output_type": "display_data"
    },
    {
     "data": {
      "application/javascript": [
       "\n",
       "        if (typeof window.interactive_beam_jquery == 'undefined') {\n",
       "          var jqueryScript = document.createElement('script');\n",
       "          jqueryScript.src = 'https://code.jquery.com/jquery-3.4.1.slim.min.js';\n",
       "          jqueryScript.type = 'text/javascript';\n",
       "          jqueryScript.onload = function() {\n",
       "            var datatableScript = document.createElement('script');\n",
       "            datatableScript.src = 'https://cdn.datatables.net/1.10.20/js/jquery.dataTables.min.js';\n",
       "            datatableScript.type = 'text/javascript';\n",
       "            datatableScript.onload = function() {\n",
       "              window.interactive_beam_jquery = jQuery.noConflict(true);\n",
       "              window.interactive_beam_jquery(document).ready(function($){\n",
       "                \n",
       "            $(\"#progress_indicator_159b8e205e22ac45ba637a17c0703f86\").remove();\n",
       "              });\n",
       "            }\n",
       "            document.head.appendChild(datatableScript);\n",
       "          };\n",
       "          document.head.appendChild(jqueryScript);\n",
       "        } else {\n",
       "          window.interactive_beam_jquery(document).ready(function($){\n",
       "            \n",
       "            $(\"#progress_indicator_159b8e205e22ac45ba637a17c0703f86\").remove();\n",
       "          });\n",
       "        }"
      ]
     },
     "metadata": {},
     "output_type": "display_data"
    }
   ],
   "source": [
    "df = ib.collect(windowed_stream, include_window_info=True)"
   ]
  },
  {
   "cell_type": "code",
   "execution_count": 48,
   "metadata": {},
   "outputs": [
    {
     "data": {
      "text/html": [
       "<div>\n",
       "<style scoped>\n",
       "    .dataframe tbody tr th:only-of-type {\n",
       "        vertical-align: middle;\n",
       "    }\n",
       "\n",
       "    .dataframe tbody tr th {\n",
       "        vertical-align: top;\n",
       "    }\n",
       "\n",
       "    .dataframe thead th {\n",
       "        text-align: right;\n",
       "    }\n",
       "</style>\n",
       "<table border=\"1\" class=\"dataframe\">\n",
       "  <thead>\n",
       "    <tr style=\"text-align: right;\">\n",
       "      <th></th>\n",
       "      <th>0</th>\n",
       "      <th>event_time</th>\n",
       "      <th>windows</th>\n",
       "      <th>pane_info</th>\n",
       "    </tr>\n",
       "  </thead>\n",
       "  <tbody>\n",
       "    <tr>\n",
       "      <th>0</th>\n",
       "      <td>{\"Element1\":\"Element1\",\"Attribute1\":18.873699768066409,\"Attribute2\":1.4809300231933595,\"Timestamp\":\"2020-08-22T05:31:44.9650000+00:00\"}</td>\n",
       "      <td>1598074339195000</td>\n",
       "      <td>[[1598074200.0, 1598074500.0)]</td>\n",
       "      <td>PaneInfo(first: True, last: True, timing: UNKNOWN, index: 0, nonspeculative_index: 0)</td>\n",
       "    </tr>\n",
       "    <tr>\n",
       "      <th>1</th>\n",
       "      <td>b'{\"Element1\":\"Element1\",\"Attribute1\":18.698853363037109,\"Attribute2\":1.4600553131103515,\"Timestamp\":\"2020-08-22T05:32:44.9650000+00:00\"}'</td>\n",
       "      <td>1598074399250000</td>\n",
       "      <td>[[1598074200.0, 1598074500.0)]</td>\n",
       "      <td>PaneInfo(first: True, last: True, timing: UNKNOWN, index: 0, nonspeculative_index: 0)</td>\n",
       "    </tr>\n",
       "    <tr>\n",
       "      <th>2</th>\n",
       "      <td>b'{\"Element1\":\"Element1\",\"Attribute1\":19.14048083496094,\"Attribute2\":1.5010699768066404,\"Timestamp\":\"2020-08-22T05:33:44.9650000+00:00\"}'</td>\n",
       "      <td>1598074459316000</td>\n",
       "      <td>[[1598074200.0, 1598074500.0)]</td>\n",
       "      <td>PaneInfo(first: True, last: True, timing: UNKNOWN, index: 0, nonspeculative_index: 0)</td>\n",
       "    </tr>\n",
       "    <tr>\n",
       "      <th>3</th>\n",
       "      <td>b'{\"Element1\":\"Element1\",\"Attribute1\":18.805055313110351,\"Attribute2\":1.478,\"Timestamp\":\"2020-08-22T05:34:44.9650000+00:00\"}'</td>\n",
       "      <td>1598074519225000</td>\n",
       "      <td>[[1598074500.0, 1598074800.0)]</td>\n",
       "      <td>PaneInfo(first: True, last: True, timing: UNKNOWN, index: 0, nonspeculative_index: 0)</td>\n",
       "    </tr>\n",
       "    <tr>\n",
       "      <th>4</th>\n",
       "      <td>b'{\"Element1\":\"Element1\",\"Attribute1\":18.681749420166014,\"Attribute2\":1.4581049652099609,\"Timestamp\":\"2020-08-22T05:35:44.9650000+00:00\"}'</td>\n",
       "      <td>1598074579213000</td>\n",
       "      <td>[[1598074500.0, 1598074800.0)]</td>\n",
       "      <td>PaneInfo(first: True, last: True, timing: UNKNOWN, index: 0, nonspeculative_index: 0)</td>\n",
       "    </tr>\n",
       "  </tbody>\n",
       "</table>\n",
       "</div>"
      ],
      "text/plain": [
       "                                                                                                                                            0  \\\n",
       "0  {\"Element1\":\"Element1\",\"Attribute1\":18.873699768066409,\"Attribute2\":1.4809300231933595,\"Timestamp\":\"2020-08-22T05:31:44.9650000+00:00\"}      \n",
       "1  b'{\"Element1\":\"Element1\",\"Attribute1\":18.698853363037109,\"Attribute2\":1.4600553131103515,\"Timestamp\":\"2020-08-22T05:32:44.9650000+00:00\"}'   \n",
       "2  b'{\"Element1\":\"Element1\",\"Attribute1\":19.14048083496094,\"Attribute2\":1.5010699768066404,\"Timestamp\":\"2020-08-22T05:33:44.9650000+00:00\"}'    \n",
       "3  b'{\"Element1\":\"Element1\",\"Attribute1\":18.805055313110351,\"Attribute2\":1.478,\"Timestamp\":\"2020-08-22T05:34:44.9650000+00:00\"}'                \n",
       "4  b'{\"Element1\":\"Element1\",\"Attribute1\":18.681749420166014,\"Attribute2\":1.4581049652099609,\"Timestamp\":\"2020-08-22T05:35:44.9650000+00:00\"}'   \n",
       "\n",
       "         event_time                         windows  \\\n",
       "0  1598074339195000  [[1598074200.0, 1598074500.0)]   \n",
       "1  1598074399250000  [[1598074200.0, 1598074500.0)]   \n",
       "2  1598074459316000  [[1598074200.0, 1598074500.0)]   \n",
       "3  1598074519225000  [[1598074500.0, 1598074800.0)]   \n",
       "4  1598074579213000  [[1598074500.0, 1598074800.0)]   \n",
       "\n",
       "                                                                               pane_info  \n",
       "0  PaneInfo(first: True, last: True, timing: UNKNOWN, index: 0, nonspeculative_index: 0)  \n",
       "1  PaneInfo(first: True, last: True, timing: UNKNOWN, index: 0, nonspeculative_index: 0)  \n",
       "2  PaneInfo(first: True, last: True, timing: UNKNOWN, index: 0, nonspeculative_index: 0)  \n",
       "3  PaneInfo(first: True, last: True, timing: UNKNOWN, index: 0, nonspeculative_index: 0)  \n",
       "4  PaneInfo(first: True, last: True, timing: UNKNOWN, index: 0, nonspeculative_index: 0)  "
      ]
     },
     "execution_count": 48,
     "metadata": {},
     "output_type": "execute_result"
    }
   ],
   "source": [
    "df.head()"
   ]
  },
  {
   "cell_type": "code",
   "execution_count": 37,
   "metadata": {},
   "outputs": [],
   "source": [
    "# take a copy\n",
    "#df_backup = df.copy(deep=True)"
   ]
  },
  {
   "cell_type": "code",
   "execution_count": 143,
   "metadata": {},
   "outputs": [],
   "source": [
    "# restore backup\n",
    "#df = df_backup.copy(deep=True)"
   ]
  },
  {
   "cell_type": "code",
   "execution_count": 145,
   "metadata": {},
   "outputs": [],
   "source": [
    "# useful column name\n",
    "df.rename(columns={0:\"event\"},inplace=True)"
   ]
  },
  {
   "cell_type": "code",
   "execution_count": 171,
   "metadata": {},
   "outputs": [],
   "source": [
    "# worth a tryp\n",
    "df[\"event\"] = df.event.astype(str)"
   ]
  },
  {
   "cell_type": "code",
   "execution_count": 172,
   "metadata": {},
   "outputs": [
    {
     "name": "stdout",
     "output_type": "stream",
     "text": [
      "<class 'pandas.core.frame.DataFrame'>\n",
      "RangeIndex: 10 entries, 0 to 9\n",
      "Data columns (total 4 columns):\n",
      "event         10 non-null object\n",
      "event_time    10 non-null int64\n",
      "windows       10 non-null object\n",
      "pane_info     10 non-null object\n",
      "dtypes: int64(1), object(3)\n",
      "memory usage: 448.0+ bytes\n"
     ]
    }
   ],
   "source": [
    "df.info()"
   ]
  },
  {
   "cell_type": "code",
   "execution_count": 168,
   "metadata": {},
   "outputs": [],
   "source": [
    "# get rid of encoding\n",
    "import re\n",
    "for key,value in df.iterrows():\n",
    "    if re.search(\"^b'.*'$\", value[\"event\"]):\n",
    "        df[\"event\"].iat[key] = value[\"event\"][2:-1] "
   ]
  },
  {
   "cell_type": "code",
   "execution_count": 173,
   "metadata": {},
   "outputs": [
    {
     "data": {
      "text/html": [
       "<div>\n",
       "<style scoped>\n",
       "    .dataframe tbody tr th:only-of-type {\n",
       "        vertical-align: middle;\n",
       "    }\n",
       "\n",
       "    .dataframe tbody tr th {\n",
       "        vertical-align: top;\n",
       "    }\n",
       "\n",
       "    .dataframe thead th {\n",
       "        text-align: right;\n",
       "    }\n",
       "</style>\n",
       "<table border=\"1\" class=\"dataframe\">\n",
       "  <thead>\n",
       "    <tr style=\"text-align: right;\">\n",
       "      <th></th>\n",
       "      <th>event</th>\n",
       "      <th>event_time</th>\n",
       "      <th>windows</th>\n",
       "      <th>pane_info</th>\n",
       "    </tr>\n",
       "  </thead>\n",
       "  <tbody>\n",
       "    <tr>\n",
       "      <th>0</th>\n",
       "      <td>{\"Element1\":\"Element1\",\"Attribute1\":18.873699768066409,\"Attribute2\":1.4809300231933595,\"Timestamp\":\"2020-08-22T05:31:44.9650000+00:00\"}</td>\n",
       "      <td>1598074339195000</td>\n",
       "      <td>[[1598074200.0, 1598074500.0)]</td>\n",
       "      <td>PaneInfo(first: True, last: True, timing: UNKNOWN, index: 0, nonspeculative_index: 0)</td>\n",
       "    </tr>\n",
       "    <tr>\n",
       "      <th>1</th>\n",
       "      <td>{\"Element1\":\"Element1\",\"Attribute1\":18.698853363037109,\"Attribute2\":1.4600553131103515,\"Timestamp\":\"2020-08-22T05:32:44.9650000+00:00\"}</td>\n",
       "      <td>1598074399250000</td>\n",
       "      <td>[[1598074200.0, 1598074500.0)]</td>\n",
       "      <td>PaneInfo(first: True, last: True, timing: UNKNOWN, index: 0, nonspeculative_index: 0)</td>\n",
       "    </tr>\n",
       "    <tr>\n",
       "      <th>2</th>\n",
       "      <td>{\"Element1\":\"Element1\",\"Attribute1\":19.14048083496094,\"Attribute2\":1.5010699768066404,\"Timestamp\":\"2020-08-22T05:33:44.9650000+00:00\"}</td>\n",
       "      <td>1598074459316000</td>\n",
       "      <td>[[1598074200.0, 1598074500.0)]</td>\n",
       "      <td>PaneInfo(first: True, last: True, timing: UNKNOWN, index: 0, nonspeculative_index: 0)</td>\n",
       "    </tr>\n",
       "    <tr>\n",
       "      <th>3</th>\n",
       "      <td>{\"Element1\":\"Element1\",\"Attribute1\":18.805055313110351,\"Attribute2\":1.478,\"Timestamp\":\"2020-08-22T05:34:44.9650000+00:00\"}</td>\n",
       "      <td>1598074519225000</td>\n",
       "      <td>[[1598074500.0, 1598074800.0)]</td>\n",
       "      <td>PaneInfo(first: True, last: True, timing: UNKNOWN, index: 0, nonspeculative_index: 0)</td>\n",
       "    </tr>\n",
       "    <tr>\n",
       "      <th>4</th>\n",
       "      <td>{\"Element1\":\"Element1\",\"Attribute1\":18.681749420166014,\"Attribute2\":1.4581049652099609,\"Timestamp\":\"2020-08-22T05:35:44.9650000+00:00\"}</td>\n",
       "      <td>1598074579213000</td>\n",
       "      <td>[[1598074500.0, 1598074800.0)]</td>\n",
       "      <td>PaneInfo(first: True, last: True, timing: UNKNOWN, index: 0, nonspeculative_index: 0)</td>\n",
       "    </tr>\n",
       "    <tr>\n",
       "      <th>5</th>\n",
       "      <td>{\"Element1\":\"Element1\",\"Attribute1\":18.900419860839843,\"Attribute2\":1.4849300231933595,\"Timestamp\":\"2020-08-22T05:36:44.9650000+00:00\"}</td>\n",
       "      <td>1598074639244000</td>\n",
       "      <td>[[1598074500.0, 1598074800.0)]</td>\n",
       "      <td>PaneInfo(first: True, last: True, timing: UNKNOWN, index: 0, nonspeculative_index: 0)</td>\n",
       "    </tr>\n",
       "    <tr>\n",
       "      <th>6</th>\n",
       "      <td>{\"Element1\":\"Element1\",\"Attribute1\":18.736139953613282,\"Attribute2\":1.462,\"Timestamp\":\"2020-08-22T05:37:44.9650000+00:00\"}</td>\n",
       "      <td>1598074699226000</td>\n",
       "      <td>[[1598074500.0, 1598074800.0)]</td>\n",
       "      <td>PaneInfo(first: True, last: True, timing: UNKNOWN, index: 0, nonspeculative_index: 0)</td>\n",
       "    </tr>\n",
       "    <tr>\n",
       "      <th>7</th>\n",
       "      <td>{\"Element1\":\"Element1\",\"Attribute1\":18.52752714538574,\"Attribute2\":1.4445101623535157,\"Timestamp\":\"2020-08-22T05:38:44.9650000+00:00\"}</td>\n",
       "      <td>1598074759253000</td>\n",
       "      <td>[[1598074500.0, 1598074800.0)]</td>\n",
       "      <td>PaneInfo(first: True, last: True, timing: UNKNOWN, index: 0, nonspeculative_index: 0)</td>\n",
       "    </tr>\n",
       "    <tr>\n",
       "      <th>8</th>\n",
       "      <td>{\"Element1\":\"Element1\",\"Attribute1\":18.538090301513673,\"Attribute2\":1.4459300231933594,\"Timestamp\":\"2020-08-22T05:39:44.9650000+00:00\"}</td>\n",
       "      <td>1598074819195000</td>\n",
       "      <td>[[1598074800.0, 1598075100.0)]</td>\n",
       "      <td>PaneInfo(first: True, last: True, timing: UNKNOWN, index: 0, nonspeculative_index: 0)</td>\n",
       "    </tr>\n",
       "    <tr>\n",
       "      <th>9</th>\n",
       "      <td>{\"Element1\":\"Element1\",\"Attribute1\":18.587571136474612,\"Attribute2\":1.4478250579833984,\"Timestamp\":\"2020-08-22T05:40:44.9650000+00:00\"}</td>\n",
       "      <td>1598074879223000</td>\n",
       "      <td>[[1598074800.0, 1598075100.0)]</td>\n",
       "      <td>PaneInfo(first: True, last: True, timing: UNKNOWN, index: 0, nonspeculative_index: 0)</td>\n",
       "    </tr>\n",
       "  </tbody>\n",
       "</table>\n",
       "</div>"
      ],
      "text/plain": [
       "                                                                                                                                     event  \\\n",
       "0  {\"Element1\":\"Element1\",\"Attribute1\":18.873699768066409,\"Attribute2\":1.4809300231933595,\"Timestamp\":\"2020-08-22T05:31:44.9650000+00:00\"}   \n",
       "1  {\"Element1\":\"Element1\",\"Attribute1\":18.698853363037109,\"Attribute2\":1.4600553131103515,\"Timestamp\":\"2020-08-22T05:32:44.9650000+00:00\"}   \n",
       "2  {\"Element1\":\"Element1\",\"Attribute1\":19.14048083496094,\"Attribute2\":1.5010699768066404,\"Timestamp\":\"2020-08-22T05:33:44.9650000+00:00\"}    \n",
       "3  {\"Element1\":\"Element1\",\"Attribute1\":18.805055313110351,\"Attribute2\":1.478,\"Timestamp\":\"2020-08-22T05:34:44.9650000+00:00\"}                \n",
       "4  {\"Element1\":\"Element1\",\"Attribute1\":18.681749420166014,\"Attribute2\":1.4581049652099609,\"Timestamp\":\"2020-08-22T05:35:44.9650000+00:00\"}   \n",
       "5  {\"Element1\":\"Element1\",\"Attribute1\":18.900419860839843,\"Attribute2\":1.4849300231933595,\"Timestamp\":\"2020-08-22T05:36:44.9650000+00:00\"}   \n",
       "6  {\"Element1\":\"Element1\",\"Attribute1\":18.736139953613282,\"Attribute2\":1.462,\"Timestamp\":\"2020-08-22T05:37:44.9650000+00:00\"}                \n",
       "7  {\"Element1\":\"Element1\",\"Attribute1\":18.52752714538574,\"Attribute2\":1.4445101623535157,\"Timestamp\":\"2020-08-22T05:38:44.9650000+00:00\"}    \n",
       "8  {\"Element1\":\"Element1\",\"Attribute1\":18.538090301513673,\"Attribute2\":1.4459300231933594,\"Timestamp\":\"2020-08-22T05:39:44.9650000+00:00\"}   \n",
       "9  {\"Element1\":\"Element1\",\"Attribute1\":18.587571136474612,\"Attribute2\":1.4478250579833984,\"Timestamp\":\"2020-08-22T05:40:44.9650000+00:00\"}   \n",
       "\n",
       "         event_time                         windows  \\\n",
       "0  1598074339195000  [[1598074200.0, 1598074500.0)]   \n",
       "1  1598074399250000  [[1598074200.0, 1598074500.0)]   \n",
       "2  1598074459316000  [[1598074200.0, 1598074500.0)]   \n",
       "3  1598074519225000  [[1598074500.0, 1598074800.0)]   \n",
       "4  1598074579213000  [[1598074500.0, 1598074800.0)]   \n",
       "5  1598074639244000  [[1598074500.0, 1598074800.0)]   \n",
       "6  1598074699226000  [[1598074500.0, 1598074800.0)]   \n",
       "7  1598074759253000  [[1598074500.0, 1598074800.0)]   \n",
       "8  1598074819195000  [[1598074800.0, 1598075100.0)]   \n",
       "9  1598074879223000  [[1598074800.0, 1598075100.0)]   \n",
       "\n",
       "                                                                               pane_info  \n",
       "0  PaneInfo(first: True, last: True, timing: UNKNOWN, index: 0, nonspeculative_index: 0)  \n",
       "1  PaneInfo(first: True, last: True, timing: UNKNOWN, index: 0, nonspeculative_index: 0)  \n",
       "2  PaneInfo(first: True, last: True, timing: UNKNOWN, index: 0, nonspeculative_index: 0)  \n",
       "3  PaneInfo(first: True, last: True, timing: UNKNOWN, index: 0, nonspeculative_index: 0)  \n",
       "4  PaneInfo(first: True, last: True, timing: UNKNOWN, index: 0, nonspeculative_index: 0)  \n",
       "5  PaneInfo(first: True, last: True, timing: UNKNOWN, index: 0, nonspeculative_index: 0)  \n",
       "6  PaneInfo(first: True, last: True, timing: UNKNOWN, index: 0, nonspeculative_index: 0)  \n",
       "7  PaneInfo(first: True, last: True, timing: UNKNOWN, index: 0, nonspeculative_index: 0)  \n",
       "8  PaneInfo(first: True, last: True, timing: UNKNOWN, index: 0, nonspeculative_index: 0)  \n",
       "9  PaneInfo(first: True, last: True, timing: UNKNOWN, index: 0, nonspeculative_index: 0)  "
      ]
     },
     "execution_count": 173,
     "metadata": {},
     "output_type": "execute_result"
    }
   ],
   "source": [
    "df"
   ]
  },
  {
   "cell_type": "code",
   "execution_count": 208,
   "metadata": {},
   "outputs": [],
   "source": [
    "import json\n",
    "df.count()\n",
    "temp = []\n",
    "for key, value in df.iterrows():\n",
    "    temp.append(json.loads(value[\"event\"]))\n",
    "    #print(type(record))\n",
    "    #print(type(json.loads(record)))"
   ]
  },
  {
   "cell_type": "code",
   "execution_count": 213,
   "metadata": {},
   "outputs": [],
   "source": [
    "values = pd.DataFrame.from_dict(temp)"
   ]
  }
 ],
 "metadata": {
  "kernelspec": {
   "display_name": "Apache Beam 2.24.0.dev0 for Python 3",
   "language": "python",
   "name": "python3"
  },
  "language_info": {
   "codemirror_mode": {
    "name": "ipython",
    "version": 3
   },
   "file_extension": ".py",
   "mimetype": "text/x-python",
   "name": "python",
   "nbconvert_exporter": "python",
   "pygments_lexer": "ipython3",
   "version": "3.7.6"
  }
 },
 "nbformat": 4,
 "nbformat_minor": 4
}
