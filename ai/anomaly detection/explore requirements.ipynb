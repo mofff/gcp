{
 "cells": [
  {
   "cell_type": "markdown",
   "id": "e2793488",
   "metadata": {},
   "source": [
    "# explore Google Anomaly detection solution"
   ]
  },
  {
   "cell_type": "markdown",
   "id": "acfaaf2c",
   "metadata": {},
   "source": [
    "# required packages"
   ]
  },
  {
   "cell_type": "code",
   "execution_count": null,
   "id": "72bfde07",
   "metadata": {},
   "outputs": [],
   "source": [
    "# install/upgrade bigquery client\n",
    "!pip install --upgrade 'google-cloud-bigquery[bqstorage,pandas]'"
   ]
  },
  {
   "cell_type": "code",
   "execution_count": null,
   "id": "e1a13d86",
   "metadata": {},
   "outputs": [],
   "source": [
    "!pip3 install --user google-cloud-secret-manager==2.5.0"
   ]
  },
  {
   "cell_type": "code",
   "execution_count": null,
   "id": "ce8c3f43",
   "metadata": {},
   "outputs": [],
   "source": [
    "!python -m pip install ocs_sample_library_preview"
   ]
  },
  {
   "cell_type": "markdown",
   "id": "83fb525d",
   "metadata": {},
   "source": [
    "# functions"
   ]
  },
  {
   "cell_type": "code",
   "execution_count": null,
   "id": "eb233ff5",
   "metadata": {},
   "outputs": [],
   "source": [
    "# Import the Secret Manager client library.\n",
    "from google.cloud import bigquery\n",
    "from google.cloud import secretmanager\n",
    "import json"
   ]
  },
  {
   "cell_type": "code",
   "execution_count": null,
   "id": "c62cbd8e",
   "metadata": {},
   "outputs": [],
   "source": [
    "# access secret manager\n",
    "\n",
    "def create_secret(project_id,secret_id):\n",
    "    # Create the Secret Manager client.\n",
    "    client = secretmanager.SecretManagerServiceClient()\n",
    "\n",
    "    # Build the resource name of the parent project.\n",
    "    parent = f\"projects/{project_id}\"\n",
    "\n",
    "    # Build a dict of settings for the secret\n",
    "    #secret = secret\n",
    "\n",
    "    # Create the secret\n",
    "    response = client.create_secret(\n",
    "        request={\n",
    "            \"parent\": parent,\n",
    "            \"secret_id\": secret_id,\n",
    "            \"secret\": {\"replication\": {\"automatic\": {}}}\n",
    "        }\n",
    "    )\n",
    "\n",
    "    # Print the new secret name.\n",
    "    print(f'Created secret: {response.name}')      \n",
    "\n",
    "def add_secret(project_id,secret_id,secret):\n",
    "    \n",
    "    client = secretmanager.SecretManagerServiceClient()\n",
    "\n",
    "    # Build the resource name of the parent project.\n",
    "    parent = f\"projects/{project_id}/secrets/{secret_id}\"\n",
    "    \n",
    "    # str to bytes\n",
    "    payload = secret.encode('UTF-8')\n",
    "    \n",
    "    # Add the secret version.\n",
    "    version = client.add_secret_version(\n",
    "        request={\"parent\": parent, \"payload\": {\"data\": payload}}\n",
    "    )\n",
    "\n",
    "def get_secret(project_id,secret_id,debug=0):\n",
    "\n",
    "    client = secretmanager.SecretManagerServiceClient()\n",
    "    \n",
    "    # Build the resource name of the parent project.\n",
    "    name = f\"projects/{project_id}/secrets/{secret_id}/versions/latest\"\n",
    "    #name = \"projects/326764451207/secrets/anom_detect/versions/latest\"\n",
    "    if debug: print(name)\n",
    "    response = client.access_secret_version(request = {            \n",
    "            \"name\": name\n",
    "    })\n",
    "    # Access the secret version.\n",
    "    #response = client.access_secret_version(request={\"name\": version.name})\n",
    "    return response.payload.data.decode('UTF-8')\n",
    "\n",
    "def list_secret(project_id,secret_id):\n",
    "\n",
    "    debug=1\n",
    "    client = secretmanager.SecretManagerServiceClient()\n",
    "    \n",
    "    # Build the resource name of the parent project.\n",
    "    name = f\"projects/{project_id}/secrets/{secret_id}/versions/latest\"\n",
    "    #name = \"projects/326764451207/secrets/anom_detect/versions/latest\"\n",
    "    if debug: print(name)\n",
    "    response = client.access_secret_version(request = {            \n",
    "            \"name\": name\n",
    "    })\n",
    "    # Access the secret version.\n",
    "    #response = client.access_secret_version(request={\"name\": version.name})\n",
    "    return response\n",
    "\n",
    "def list_secrets(project_id):\n",
    "\n",
    "    debug=1\n",
    "    client = secretmanager.SecretManagerServiceClient()\n",
    "    \n",
    "    # Build the resource name of the parent project.\n",
    "    parent = f\"projects/{project_id}\"\n",
    "    #name = \"projects/326764451207/secrets/anom_detect/versions/latest\"\n",
    "    if debug: print(parent)\n",
    "    response = client.list_secrets(request = {            \n",
    "            \"parent\": parent\n",
    "    })\n",
    "    # Access the secret version.\n",
    "    #response = client.access_secret_version(request={\"name\": version.name})\n",
    "    return response"
   ]
  },
  {
   "cell_type": "markdown",
   "id": "157dd7ea",
   "metadata": {},
   "source": [
    "# configuration"
   ]
  },
  {
   "cell_type": "code",
   "execution_count": null,
   "id": "398cad70",
   "metadata": {},
   "outputs": [],
   "source": [
    "PROJECT_ID = \"aveva-gcp-accelerator-dev\"\n",
    "PROJECT_ID_ID = \"326764451207\"\n",
    "GCP_SVC_ACC = \"anom-detect@aveva-gcp-accelerator-dev.iam.gserviceaccount.com\"\n",
    "GCP_SVC_ACC_KEY_FILE = \"/home/jupyter/anomaly\\ detection/../anom.json\"\n",
    "secret_name = \"anom_detect_aveva\""
   ]
  },
  {
   "cell_type": "code",
   "execution_count": null,
   "id": "3d2f0514",
   "metadata": {},
   "outputs": [],
   "source": [
    "config_function = {\n",
    "        \"prefix\" : \"adh_ad_\"\n",
    "        ,\"client_id\" : \"e2e45a5b-4964-40e9-ac26-424c181b49c1\"\n",
    "        ,\"client_secret\" : \"TupWb0MGpCr1N8EKGG151Fh6tX3e6HlRANoLo2rmrVU=\"\n",
    "        ,\"resource\" : \"https://uswe.datahub.connect.aveva.com\"\n",
    "        ,\"tenant_id\" : \"cee3a3fd-aeb2-4950-80f5-4b72c77322b1\"\n",
    "        ,\"namespace\" : \"ebd1fe8e-713b-416e-a811-f281200b847a\"\n",
    "        ,\"namespace_name\" : \"Development\"\n",
    "        ,\"dataview\" : \"hydraulic test bench\"\n",
    "        ,\"interval\" : \"00.00:00:01\"\n",
    "        ,\"bigquery_table_ingress\" : \"aveva-gcp-accelerator-dev.Test.dataset\"\n",
    "        ,\"bigquery_table_egress\" : \"\"\n",
    "}"
   ]
  },
  {
   "cell_type": "markdown",
   "id": "32518c45",
   "metadata": {},
   "source": [
    "# secret manager"
   ]
  },
  {
   "cell_type": "code",
   "execution_count": null,
   "id": "f58c3290",
   "metadata": {},
   "outputs": [],
   "source": [
    "!gcloud auth list"
   ]
  },
  {
   "cell_type": "code",
   "execution_count": null,
   "id": "530e4ee1",
   "metadata": {},
   "outputs": [],
   "source": [
    "# https://codelabs.developers.google.com/codelabs/secret-manager-python#8\n",
    "#client = secretmanager.SecretManagerServiceClient()\n",
    "#client.list_secrets(request = {\"parent\": f\"projects/{PROJECT_ID_ID}\" })\n",
    "#client.get_secret(request = {\"name\": f\"projects/{PROJECT_ID_ID}/secrets/{secret_name}\"})\n",
    "#client.list_secret_versions(request = {\"parent\": f\"projects/{PROJECT_ID_ID}/secrets/{secret_name}\"})\n",
    "#client.get_secret_version(request= {\"name\": f\"projects/{PROJECT_ID_ID}/secrets/{secret_name}/versions/latest\"})\n",
    "#client.access_secret_version(request = {\"name\": f\"projects/{PROJECT_ID_ID}/secrets/{secret_name}/versions/latest\"})\n",
    "#client.access_secret_version(request = {\"name\": \"projects/326764451207/secrets/anom_detect/versions/1\" })"
   ]
  },
  {
   "cell_type": "code",
   "execution_count": null,
   "id": "3704b78d",
   "metadata": {},
   "outputs": [],
   "source": [
    "create_secret(PROJECT_ID,secret_name)"
   ]
  },
  {
   "cell_type": "code",
   "execution_count": null,
   "id": "1591dc90",
   "metadata": {},
   "outputs": [],
   "source": [
    "add_secret(PROJECT_ID,secret_name,json.dumps(config_function))"
   ]
  },
  {
   "cell_type": "code",
   "execution_count": null,
   "id": "b92b4309",
   "metadata": {
    "scrolled": true
   },
   "outputs": [],
   "source": [
    "list_secrets(PROJECT_ID)"
   ]
  },
  {
   "cell_type": "code",
   "execution_count": null,
   "id": "87b229a1",
   "metadata": {},
   "outputs": [],
   "source": [
    "configuration = json.loads(get_secret(PROJECT_ID,secret_name))"
   ]
  },
  {
   "cell_type": "markdown",
   "id": "1cfaaad4",
   "metadata": {},
   "source": [
    "# read data from ADH"
   ]
  },
  {
   "cell_type": "code",
   "execution_count": null,
   "id": "23e41aae",
   "metadata": {},
   "outputs": [],
   "source": [
    "\n",
    "import datetime\n",
    "from io import StringIO\n",
    "from ocs_sample_library_preview import * # default\n",
    "import pandas as pd\n",
    "import pprint\n",
    "import urllib"
   ]
  },
  {
   "cell_type": "code",
   "execution_count": null,
   "id": "b0437e46",
   "metadata": {},
   "outputs": [],
   "source": [
    "\n",
    "def endpoint_request(baseClient, url):\n",
    "    # add request headers\n",
    "    headers = baseClient.sdsHeaders()\n",
    "    headers['Accept-Encoding'] = \"gzip\" # set also by requests\n",
    "    headers['Request-Timeout'] = \"300\"  # in seconds\n",
    "    # query!\n",
    "    return baseClient.request(\"get\"\n",
    "                              ,url\n",
    "                              ,headers=headers)\n",
    "\n",
    "def get_timerange(minute_period):\n",
    "    \"\"\"\n",
    "    get_timerange - return a start and end timestamp for the preceding minute_period time range\n",
    "    param: minute_period - time in minutes for the period \n",
    "    \"\"\"\n",
    "    ts = datetime.datetime.utcnow()\n",
    "    # set time to most recent period minutes interval with offsite 00:00:00\n",
    "    # care of google TODO: add ref.\n",
    "    ts_end = ts - datetime.timedelta(\n",
    "        minutes=ts.minute % minute_period, # remainder minutes after dividing by 5\n",
    "        seconds=ts.second, # use timestamp time to clear seconds to zero\n",
    "        microseconds=ts.microsecond # use timestamp time clear microseconds to zero\n",
    "    )\n",
    "    # check if we are in the current minute, we want the time 5 minutes ago\n",
    "    if ts.minute == ts_end.minute:\n",
    "        ts_end = ts_end - datetime.timedelta(minutes=minute_period)\n",
    "\n",
    "    ts_start = ts_end - datetime.timedelta(minutes=minute_period)\n",
    "    \n",
    "    return { \"start\": ts_start, \"end\": ts_end }\n",
    "\n",
    "def get_timerange_test():\n",
    "    # setup variables for use in queries\n",
    "    start_time = '2022-02-11T00:00:00Z'\n",
    "    end_time = '2022-02-11T01:00:00Z'\n",
    "    start_datetime = (datetime.datetime.strptime(start_time,\"%Y-%m-%dT%H:%M:%SZ\"))\n",
    "    end_datetime = (datetime.datetime.strptime(end_time,\"%Y-%m-%dT%H:%M:%SZ\"))\n",
    "    return { \"start\": start_time, \"end\": end_time }"
   ]
  },
  {
   "cell_type": "code",
   "execution_count": null,
   "id": "20e996aa",
   "metadata": {},
   "outputs": [],
   "source": [
    "# get configuration\n",
    "\n",
    "try:\n",
    "    parameters = json.loads(get_secret(PROJECT_ID,secret_name))\n",
    "except Exception as e:\n",
    "    print(f'get parameters error: ',{e})\n",
    "    exit(1)"
   ]
  },
  {
   "cell_type": "code",
   "execution_count": null,
   "id": "5f52b225",
   "metadata": {},
   "outputs": [],
   "source": [
    "\n",
    "# range = get_timerange()  # once implemented\n",
    "range = get_timerange_test()\n",
    "print(\"start: \" + range['start'] + \"\\n\" + \"end:   \" +  range['end'])"
   ]
  },
  {
   "cell_type": "code",
   "execution_count": null,
   "id": "e597024f",
   "metadata": {},
   "outputs": [],
   "source": [
    "# connect to OSIsoft Cloud Services\n",
    "ocsClient = OCSClient(\"v1\", parameters['tenant_id'], parameters['resource'], parameters['client_id'], parameters['client_secret'])"
   ]
  },
  {
   "cell_type": "code",
   "execution_count": null,
   "id": "9b0d4e68",
   "metadata": {},
   "outputs": [],
   "source": [
    "api_version = ocsClient.baseClient.api_version\n",
    "baseUri = f'{ocsClient.uri}/api/{api_version}/Tenants/{ocsClient.tenant}'\n",
    "baseNamespaceUri = f\"{baseUri}/Namespaces/{parameters['namespace']}\""
   ]
  },
  {
   "cell_type": "code",
   "execution_count": null,
   "id": "9753a927",
   "metadata": {},
   "outputs": [],
   "source": [
    "options = \"&form=csvh\" # Note: code below removes header row, due to 'csvh' selection\n",
    "dataview = urllib.parse.quote(parameters['dataview'])\n",
    "url = f\"{baseNamespaceUri}/DataViews/{parameters['dataview']}/Data/Interpolated?startIndex={range['start']}&endIndex={range['end']}&interval={parameters['interval']}{options}\"\n",
    "response = endpoint_request(ocsClient.baseClient,url)\n",
    "response_text = response.text\n",
    "\n",
    "# paging assumes csv format only TODO support JSON paged responses\n",
    "while response.links.get('next') is not None and (response.status_code == 200 or response.status_code == 204):\n",
    "    response = endpoint_request(ocsClient.baseClient,response.links['next']['url'])\n",
    "    response_text += '\\r\\n'\n",
    "    response_text += response.text.split(\"\\n\",1)[1]  # remove header row"
   ]
  },
  {
   "cell_type": "markdown",
   "id": "4072b0d8",
   "metadata": {},
   "source": [
    "# process dataset from ADH and write to BigQuery"
   ]
  },
  {
   "cell_type": "code",
   "execution_count": null,
   "id": "29167fa1",
   "metadata": {},
   "outputs": [],
   "source": [
    "if len(response_text) > 0:\n",
    "    #df = pd.read_csv(StringIO(response_text))\n",
    "    # nanoseconds is seven digits, not supported.\n",
    "    df = pd.read_csv(StringIO(response_text),index_col='Timestamp',parse_dates=True)\n",
    "    df.rename(columns={\"Field\": \"tagName\",\"Timestamp\": \"eventTimeStamp\"},inplace=True)\n",
    "    df.index.rename(\"eventTimeStamp\",inplace=True)\n",
    "# truncate 7th subsecond digit\n",
    "#df.Timestamp = df.Timestamp.replace('.0000000Z','',regex=True)\n",
    "#df.Timestamp = df.Timestamp.replace('T.*','T',regex=True)\n",
    "#df.Timestamp = df.Timestamp.replace(':.*','',regex=True)\n",
    "#df.Timestamp = df.Timestamp.replace('[ ].*','',regex=True)\n",
    "#'T.*$','T',regex=True)\n",
    "#.0000000Z','',regex=True)\n",
    "#df.head()"
   ]
  },
  {
   "cell_type": "code",
   "execution_count": null,
   "id": "7d3cb5b0",
   "metadata": {},
   "outputs": [],
   "source": [
    "df.info()"
   ]
  },
  {
   "cell_type": "code",
   "execution_count": null,
   "id": "426ec5b7",
   "metadata": {},
   "outputs": [],
   "source": [
    "df.head()"
   ]
  },
  {
   "cell_type": "code",
   "execution_count": null,
   "id": "41282f47",
   "metadata": {},
   "outputs": [],
   "source": [
    "# write response from ADH to BigQuery\n",
    "client = bigquery.Client()\n",
    "table_id = parameters['bigquery_table_ingress']\n",
    "job_config = bigquery.LoadJobConfig(schema=[\n",
    "    bigquery.SchemaField(\"assetId\", \"STRING\"),\n",
    "    bigquery.SchemaField(\"tagName\", \"STRING\"),\n",
    "])\n",
    "job = client.load_table_from_dataframe(\n",
    "    df, table_id, job_config=job_config\n",
    ")\n",
    "job.result()"
   ]
  },
  {
   "cell_type": "markdown",
   "id": "99145d7e",
   "metadata": {},
   "source": [
    "# acccess bigquery table"
   ]
  },
  {
   "cell_type": "code",
   "execution_count": null,
   "id": "52a6a3b5",
   "metadata": {},
   "outputs": [],
   "source": [
    "# load/verify magic commands\n",
    "%load_ext google.cloud.bigquery"
   ]
  },
  {
   "cell_type": "code",
   "execution_count": null,
   "id": "2d61a914",
   "metadata": {},
   "outputs": [],
   "source": [
    "from google.cloud import bigquery\n",
    "\n",
    "bqclient = bigquery.Client()\n",
    "\n",
    "sql =\"\"\"SELECT * FROM `{}` LIMIT 10\"\"\"\n",
    "query=sql.format(configuration['bigquery_table_source'])\n",
    "\n",
    "bq_result = bqclient.query(query)"
   ]
  },
  {
   "cell_type": "code",
   "execution_count": null,
   "id": "c096cbd9",
   "metadata": {},
   "outputs": [],
   "source": [
    "pd = bq_result.to_dataframe()"
   ]
  },
  {
   "cell_type": "code",
   "execution_count": null,
   "id": "b93c5d3c",
   "metadata": {},
   "outputs": [],
   "source": [
    "%%bigquery\n",
    "# query table data source\n",
    "select *\n",
    "from \n",
    "limit 1"
   ]
  }
 ],
 "metadata": {
  "environment": {
   "name": "common-cpu.m78",
   "type": "gcloud",
   "uri": "gcr.io/deeplearning-platform-release/base-cpu:m78"
  },
  "kernelspec": {
   "display_name": "Python [conda env:root] *",
   "language": "python",
   "name": "conda-root-py"
  },
  "language_info": {
   "codemirror_mode": {
    "name": "ipython",
    "version": 3
   },
   "file_extension": ".py",
   "mimetype": "text/x-python",
   "name": "python",
   "nbconvert_exporter": "python",
   "pygments_lexer": "ipython3",
   "version": "3.7.10"
  }
 },
 "nbformat": 4,
 "nbformat_minor": 5
}
