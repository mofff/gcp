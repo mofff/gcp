{
 "cells": [
  {
   "cell_type": "markdown",
   "id": "d99dd26b",
   "metadata": {},
   "source": [
    "# explore Google Anomaly detection solution"
   ]
  },
  {
   "cell_type": "markdown",
   "id": "97577b96",
   "metadata": {},
   "source": [
    "# required packages"
   ]
  },
  {
   "cell_type": "code",
   "execution_count": null,
   "id": "dd3ab979",
   "metadata": {},
   "outputs": [],
   "source": [
    "# install/upgrade bigquery client\n",
    "!pip install --upgrade 'google-cloud-bigquery[bqstorage,pandas]'"
   ]
  },
  {
   "cell_type": "code",
   "execution_count": null,
   "id": "d0c6c8d7",
   "metadata": {},
   "outputs": [],
   "source": [
    "!pip3 install --user google-cloud-secret-manager==2.5.0"
   ]
  },
  {
   "cell_type": "code",
   "execution_count": null,
   "id": "a576b497",
   "metadata": {},
   "outputs": [],
   "source": [
    "!python -m pip install ocs_sample_library_preview"
   ]
  },
  {
   "cell_type": "markdown",
   "id": "12a9f865",
   "metadata": {},
   "source": [
    "# functions"
   ]
  },
  {
   "cell_type": "code",
   "execution_count": 263,
   "id": "f8b440b5",
   "metadata": {},
   "outputs": [],
   "source": [
    "# Import the Secret Manager client library.\n",
    "from google.cloud import bigquery\n",
    "from google.cloud import secretmanager\n",
    "import json\n",
    "import pandas as pd"
   ]
  },
  {
   "cell_type": "code",
   "execution_count": null,
   "id": "bdb3f038",
   "metadata": {},
   "outputs": [],
   "source": [
    "# access secret manager\n",
    "\n",
    "def create_secret(project_id,secret_id):\n",
    "    # Create the Secret Manager client.\n",
    "    client = secretmanager.SecretManagerServiceClient()\n",
    "\n",
    "    # Build the resource name of the parent project.\n",
    "    parent = f\"projects/{project_id}\"\n",
    "\n",
    "    # Build a dict of settings for the secret\n",
    "    #secret = secret\n",
    "\n",
    "    # Create the secret\n",
    "    response = client.create_secret(\n",
    "        request={\n",
    "            \"parent\": parent,\n",
    "            \"secret_id\": secret_id,\n",
    "            \"secret\": {\"replication\": {\"automatic\": {}}}\n",
    "        }\n",
    "    )\n",
    "\n",
    "    # Print the new secret name.\n",
    "    print(f'Created secret: {response.name}')      \n",
    "\n",
    "def add_secret(project_id,secret_id,secret):\n",
    "    \n",
    "    client = secretmanager.SecretManagerServiceClient()\n",
    "\n",
    "    # Build the resource name of the parent project.\n",
    "    parent = f\"projects/{project_id}/secrets/{secret_id}\"\n",
    "    \n",
    "    # str to bytes\n",
    "    payload = secret.encode('UTF-8')\n",
    "    \n",
    "    # Add the secret version.\n",
    "    version = client.add_secret_version(\n",
    "        request={\"parent\": parent, \"payload\": {\"data\": payload}}\n",
    "    )\n",
    "\n",
    "def get_secret(project_id,secret_id,debug=0):\n",
    "\n",
    "    client = secretmanager.SecretManagerServiceClient()\n",
    "    \n",
    "    # Build the resource name of the parent project.\n",
    "    name = f\"projects/{project_id}/secrets/{secret_id}/versions/latest\"\n",
    "    #name = \"projects/326764451207/secrets/anom_detect/versions/latest\"\n",
    "    if debug: print(name)\n",
    "    response = client.access_secret_version(request = {            \n",
    "            \"name\": name\n",
    "    })\n",
    "    # Access the secret version.\n",
    "    #response = client.access_secret_version(request={\"name\": version.name})\n",
    "    return response.payload.data.decode('UTF-8')\n",
    "\n",
    "def list_secret(project_id,secret_id):\n",
    "\n",
    "    debug=1\n",
    "    client = secretmanager.SecretManagerServiceClient()\n",
    "    \n",
    "    # Build the resource name of the parent project.\n",
    "    name = f\"projects/{project_id}/secrets/{secret_id}/versions/latest\"\n",
    "    #name = \"projects/326764451207/secrets/anom_detect/versions/latest\"\n",
    "    if debug: print(name)\n",
    "    response = client.access_secret_version(request = {            \n",
    "            \"name\": name\n",
    "    })\n",
    "    # Access the secret version.\n",
    "    #response = client.access_secret_version(request={\"name\": version.name})\n",
    "    return response\n",
    "\n",
    "def list_secrets(project_id):\n",
    "\n",
    "    debug=1\n",
    "    client = secretmanager.SecretManagerServiceClient()\n",
    "    \n",
    "    # Build the resource name of the parent project.\n",
    "    parent = f\"projects/{project_id}\"\n",
    "    #name = \"projects/326764451207/secrets/anom_detect/versions/latest\"\n",
    "    if debug: print(parent)\n",
    "    response = client.list_secrets(request = {            \n",
    "            \"parent\": parent\n",
    "    })\n",
    "    # Access the secret version.\n",
    "    #response = client.access_secret_version(request={\"name\": version.name})\n",
    "    return response"
   ]
  },
  {
   "cell_type": "markdown",
   "id": "bf087b2c",
   "metadata": {},
   "source": [
    "# configuration"
   ]
  },
  {
   "cell_type": "code",
   "execution_count": 324,
   "id": "62d69728",
   "metadata": {},
   "outputs": [],
   "source": [
    "%run '../config.py'"
   ]
  },
  {
   "cell_type": "code",
   "execution_count": 315,
   "id": "965dfd7e",
   "metadata": {},
   "outputs": [],
   "source": [
    "# read configuration \n",
    "import os\n",
    "fname = os.path.join(\"..\",\"parameters.json\")\n",
    "config_function = json.load(open(fname))"
   ]
  },
  {
   "cell_type": "markdown",
   "id": "d548c25c",
   "metadata": {},
   "source": [
    "# secret manager"
   ]
  },
  {
   "cell_type": "code",
   "execution_count": null,
   "id": "d877f61a",
   "metadata": {},
   "outputs": [],
   "source": [
    "!gcloud auth list"
   ]
  },
  {
   "cell_type": "code",
   "execution_count": null,
   "id": "2448444b",
   "metadata": {},
   "outputs": [],
   "source": [
    "# https://codelabs.developers.google.com/codelabs/secret-manager-python#8\n",
    "#client = secretmanager.SecretManagerServiceClient()\n",
    "#client.list_secrets(request = {\"parent\": f\"projects/{PROJECT_ID_ID}\" })\n",
    "#client.get_secret(request = {\"name\": f\"projects/{PROJECT_ID_ID}/secrets/{secret_name}\"})\n",
    "#client.list_secret_versions(request = {\"parent\": f\"projects/{PROJECT_ID_ID}/secrets/{secret_name}\"})\n",
    "#client.get_secret_version(request= {\"name\": f\"projects/{PROJECT_ID_ID}/secrets/{secret_name}/versions/latest\"})\n",
    "#client.access_secret_version(request = {\"name\": f\"projects/{PROJECT_ID_ID}/secrets/{secret_name}/versions/latest\"})\n",
    "#client.access_secret_version(request = {\"name\": \"projects/326764451207/secrets/anom_detect/versions/1\" })"
   ]
  },
  {
   "cell_type": "code",
   "execution_count": null,
   "id": "240cba76",
   "metadata": {},
   "outputs": [],
   "source": [
    "create_secret(PROJECT_ID,secret_name)"
   ]
  },
  {
   "cell_type": "code",
   "execution_count": 247,
   "id": "438651d4",
   "metadata": {},
   "outputs": [],
   "source": [
    "add_secret(PROJECT_ID,secret_name,json.dumps(config_function))"
   ]
  },
  {
   "cell_type": "code",
   "execution_count": null,
   "id": "c1effc3e",
   "metadata": {
    "scrolled": true
   },
   "outputs": [],
   "source": [
    "list_secrets(PROJECT_ID)"
   ]
  },
  {
   "cell_type": "code",
   "execution_count": 248,
   "id": "bbeca74d",
   "metadata": {},
   "outputs": [],
   "source": [
    "configuration = json.loads(get_secret(PROJECT_ID,secret_name))"
   ]
  },
  {
   "cell_type": "markdown",
   "id": "67608e6c",
   "metadata": {},
   "source": [
    "# read from Big Query ingress table"
   ]
  },
  {
   "cell_type": "code",
   "execution_count": 254,
   "id": "b85bffe7",
   "metadata": {},
   "outputs": [],
   "source": [
    "from google.cloud import bigquery\n",
    "\n",
    "bqclient = bigquery.Client()\n",
    "\n",
    "sql =\"\"\"SELECT * FROM `{}` LIMIT 10\"\"\"\n",
    "query=sql.format(configuration['bigquery_table_ingress_test'])\n",
    "#query=sql.format(configuration['bigquery_table_ingress_test'])\n",
    "\n",
    "bq_result = bqclient.query(query)"
   ]
  },
  {
   "cell_type": "code",
   "execution_count": 255,
   "id": "b5c94528",
   "metadata": {},
   "outputs": [
    {
     "data": {
      "text/html": [
       "<div>\n",
       "<style scoped>\n",
       "    .dataframe tbody tr th:only-of-type {\n",
       "        vertical-align: middle;\n",
       "    }\n",
       "\n",
       "    .dataframe tbody tr th {\n",
       "        vertical-align: top;\n",
       "    }\n",
       "\n",
       "    .dataframe thead th {\n",
       "        text-align: right;\n",
       "    }\n",
       "</style>\n",
       "<table border=\"1\" class=\"dataframe\">\n",
       "  <thead>\n",
       "    <tr style=\"text-align: right;\">\n",
       "      <th></th>\n",
       "      <th>assetId</th>\n",
       "      <th>tagName</th>\n",
       "      <th>eventTimeStamp</th>\n",
       "      <th>value</th>\n",
       "      <th>ingestionTimeStamp</th>\n",
       "    </tr>\n",
       "  </thead>\n",
       "  <tbody>\n",
       "    <tr>\n",
       "      <th>0</th>\n",
       "      <td>Hydraulic test bench</td>\n",
       "      <td>Pressure1</td>\n",
       "      <td>2022-02-11 00:17:14+00:00</td>\n",
       "      <td>144.00</td>\n",
       "      <td>None</td>\n",
       "    </tr>\n",
       "    <tr>\n",
       "      <th>1</th>\n",
       "      <td>Hydraulic test bench</td>\n",
       "      <td>Pressure1</td>\n",
       "      <td>2022-02-11 00:17:18+00:00</td>\n",
       "      <td>144.00</td>\n",
       "      <td>None</td>\n",
       "    </tr>\n",
       "    <tr>\n",
       "      <th>2</th>\n",
       "      <td>Hydraulic test bench</td>\n",
       "      <td>Pressure1</td>\n",
       "      <td>2022-02-11 00:39:10+00:00</td>\n",
       "      <td>144.00</td>\n",
       "      <td>None</td>\n",
       "    </tr>\n",
       "    <tr>\n",
       "      <th>3</th>\n",
       "      <td>Hydraulic test bench</td>\n",
       "      <td>Pressure1</td>\n",
       "      <td>2022-02-11 00:13:13+00:00</td>\n",
       "      <td>144.25</td>\n",
       "      <td>None</td>\n",
       "    </tr>\n",
       "    <tr>\n",
       "      <th>4</th>\n",
       "      <td>Hydraulic test bench</td>\n",
       "      <td>Pressure1</td>\n",
       "      <td>2022-02-11 00:32:10+00:00</td>\n",
       "      <td>144.75</td>\n",
       "      <td>None</td>\n",
       "    </tr>\n",
       "    <tr>\n",
       "      <th>5</th>\n",
       "      <td>Hydraulic test bench</td>\n",
       "      <td>Pressure1</td>\n",
       "      <td>2022-02-11 00:41:25+00:00</td>\n",
       "      <td>152.75</td>\n",
       "      <td>None</td>\n",
       "    </tr>\n",
       "    <tr>\n",
       "      <th>6</th>\n",
       "      <td>Hydraulic test bench</td>\n",
       "      <td>Pressure1</td>\n",
       "      <td>2022-02-11 00:42:41+00:00</td>\n",
       "      <td>152.75</td>\n",
       "      <td>None</td>\n",
       "    </tr>\n",
       "    <tr>\n",
       "      <th>7</th>\n",
       "      <td>Hydraulic test bench</td>\n",
       "      <td>Pressure1</td>\n",
       "      <td>2022-02-11 00:42:44+00:00</td>\n",
       "      <td>152.75</td>\n",
       "      <td>None</td>\n",
       "    </tr>\n",
       "    <tr>\n",
       "      <th>8</th>\n",
       "      <td>Hydraulic test bench</td>\n",
       "      <td>Pressure1</td>\n",
       "      <td>2022-02-11 00:44:24+00:00</td>\n",
       "      <td>152.75</td>\n",
       "      <td>None</td>\n",
       "    </tr>\n",
       "    <tr>\n",
       "      <th>9</th>\n",
       "      <td>Hydraulic test bench</td>\n",
       "      <td>Pressure1</td>\n",
       "      <td>2022-02-11 00:44:25+00:00</td>\n",
       "      <td>152.75</td>\n",
       "      <td>None</td>\n",
       "    </tr>\n",
       "  </tbody>\n",
       "</table>\n",
       "</div>"
      ],
      "text/plain": [
       "                assetId    tagName            eventTimeStamp   value  \\\n",
       "0  Hydraulic test bench  Pressure1 2022-02-11 00:17:14+00:00  144.00   \n",
       "1  Hydraulic test bench  Pressure1 2022-02-11 00:17:18+00:00  144.00   \n",
       "2  Hydraulic test bench  Pressure1 2022-02-11 00:39:10+00:00  144.00   \n",
       "3  Hydraulic test bench  Pressure1 2022-02-11 00:13:13+00:00  144.25   \n",
       "4  Hydraulic test bench  Pressure1 2022-02-11 00:32:10+00:00  144.75   \n",
       "5  Hydraulic test bench  Pressure1 2022-02-11 00:41:25+00:00  152.75   \n",
       "6  Hydraulic test bench  Pressure1 2022-02-11 00:42:41+00:00  152.75   \n",
       "7  Hydraulic test bench  Pressure1 2022-02-11 00:42:44+00:00  152.75   \n",
       "8  Hydraulic test bench  Pressure1 2022-02-11 00:44:24+00:00  152.75   \n",
       "9  Hydraulic test bench  Pressure1 2022-02-11 00:44:25+00:00  152.75   \n",
       "\n",
       "  ingestionTimeStamp  \n",
       "0               None  \n",
       "1               None  \n",
       "2               None  \n",
       "3               None  \n",
       "4               None  \n",
       "5               None  \n",
       "6               None  \n",
       "7               None  \n",
       "8               None  \n",
       "9               None  "
      ]
     },
     "execution_count": 255,
     "metadata": {},
     "output_type": "execute_result"
    }
   ],
   "source": [
    "pd = bq_result.to_dataframe()\n",
    "pd"
   ]
  },
  {
   "cell_type": "markdown",
   "id": "3a279318",
   "metadata": {},
   "source": [
    "# read data from ADH"
   ]
  },
  {
   "cell_type": "code",
   "execution_count": null,
   "id": "86628767",
   "metadata": {},
   "outputs": [],
   "source": [
    "\n",
    "import datetime\n",
    "from io import StringIO\n",
    "from ocs_sample_library_preview import * # default\n",
    "import pandas as pd\n",
    "import pprint\n",
    "import urllib"
   ]
  },
  {
   "cell_type": "code",
   "execution_count": 197,
   "id": "ba0f092b",
   "metadata": {},
   "outputs": [],
   "source": [
    "\n",
    "def endpoint_request(baseClient, url):\n",
    "    # add request headers\n",
    "    headers = baseClient.sdsHeaders()\n",
    "    headers['Accept-Encoding'] = \"gzip\" # set also by requests\n",
    "    headers['Request-Timeout'] = \"300\"  # in seconds\n",
    "    # query!\n",
    "    return baseClient.request(\"get\"\n",
    "                              ,url\n",
    "                              ,headers=headers)\n",
    "\n",
    "def get_timerange(minute_period):\n",
    "    \"\"\"\n",
    "    get_timerange - return a start and end timestamp for the preceding minute_period time range\n",
    "    param: minute_period - time in minutes for the period \n",
    "    \"\"\"\n",
    "    ts = datetime.datetime.utcnow()\n",
    "    # set time to most recent period minutes interval with offsite 00:00:00\n",
    "    # care of google TODO: add ref.\n",
    "    ts_end = ts - datetime.timedelta(\n",
    "        minutes=ts.minute % minute_period, # remainder minutes after dividing by 5\n",
    "        seconds=ts.second, # use timestamp time to clear seconds to zero\n",
    "        microseconds=ts.microsecond # use timestamp time clear microseconds to zero\n",
    "    )\n",
    "    # check if we are in the current minute, we want the time 5 minutes ago\n",
    "    if ts.minute == ts_end.minute:\n",
    "        ts_end = ts_end - datetime.timedelta(minutes=minute_period)\n",
    "\n",
    "    ts_start = ts_end - datetime.timedelta(minutes=minute_period)\n",
    "    \n",
    "    return { \"start\": ts_start, \"end\": ts_end }\n",
    "\n",
    "def get_timerange_test():\n",
    "    # setup variables for use in queries\n",
    "    start_time = '2022-02-11T00:00:00Z'\n",
    "    end_time = '2022-02-11T01:00:00Z'\n",
    "    start_time = '2022-02-11T01:00:00Z'\n",
    "    end_time = '2022-02-11T02:00:00Z'\n",
    "    start_datetime = (datetime.datetime.strptime(start_time,\"%Y-%m-%dT%H:%M:%SZ\"))\n",
    "    end_datetime = (datetime.datetime.strptime(end_time,\"%Y-%m-%dT%H:%M:%SZ\"))\n",
    "    return { \"start\": start_time, \"end\": end_time }"
   ]
  },
  {
   "cell_type": "code",
   "execution_count": null,
   "id": "b14fa90d",
   "metadata": {},
   "outputs": [],
   "source": [
    "# get configuration\n",
    "\n",
    "try:\n",
    "    parameters = json.loads(get_secret(PROJECT_ID,secret_name))\n",
    "except Exception as e:\n",
    "    print(f'get parameters error: ',{e})\n",
    "    exit(1)"
   ]
  },
  {
   "cell_type": "code",
   "execution_count": null,
   "id": "7e2d6b33",
   "metadata": {},
   "outputs": [],
   "source": [
    "\n",
    "# range = get_timerange()  # once implemented\n",
    "range = get_timerange_test()\n",
    "print(\"start: \" + range['start'] + \"\\n\" + \"end:   \" +  range['end'])"
   ]
  },
  {
   "cell_type": "code",
   "execution_count": null,
   "id": "1fd6bf44",
   "metadata": {},
   "outputs": [],
   "source": [
    "# connect to OSIsoft Cloud Services\n",
    "ocsClient = OCSClient(\"v1\", parameters['tenant_id'], parameters['resource'], parameters['client_id'], parameters['client_secret'])"
   ]
  },
  {
   "cell_type": "code",
   "execution_count": 277,
   "id": "ecd60622",
   "metadata": {},
   "outputs": [],
   "source": [
    "api_version = ocsClient.baseClient.api_version\n",
    "baseUri = f'{ocsClient.uri}/api/{api_version}/Tenants/{ocsClient.tenant}'\n",
    "baseNamespaceUri = f\"{baseUri}/Namespaces/{parameters['namespace']}\"\n",
    "namespace_id = parameters['namespace']"
   ]
  },
  {
   "cell_type": "code",
   "execution_count": 198,
   "id": "0a53de83",
   "metadata": {},
   "outputs": [],
   "source": [
    "options = \"&form=csvh\" # Note: code below removes header row, due to 'csvh' selection for additional pages\n",
    "dataview = urllib.parse.quote(parameters['dataview'])\n",
    "url = f\"{baseNamespaceUri}/DataViews/{parameters['dataview']}/Data/Interpolated?startIndex={range['start']}&endIndex={range['end']}&interval={parameters['interval']}{options}\"\n",
    "response = endpoint_request(ocsClient.baseClient,url)\n",
    "response_text = response.text\n",
    "\n",
    "# paging assumes csv format only TODO support JSON paged responses\n",
    "while response.links.get('next') is not None and (response.status_code == 200 or response.status_code == 204):\n",
    "    response = endpoint_request(ocsClient.baseClient,response.links['next']['url'])\n",
    "    response_text += '\\r\\n'\n",
    "    response_text += response.text.split(\"\\n\",1)[1]  # remove header row"
   ]
  },
  {
   "cell_type": "code",
   "execution_count": 199,
   "id": "90a0e26a",
   "metadata": {},
   "outputs": [
    {
     "data": {
      "text/plain": [
       "4239401"
      ]
     },
     "execution_count": 199,
     "metadata": {},
     "output_type": "execute_result"
    }
   ],
   "source": [
    "len(response_text)"
   ]
  },
  {
   "cell_type": "markdown",
   "id": "6bbfdfc6",
   "metadata": {},
   "source": [
    "# process dataset from ADH and write to BigQuery"
   ]
  },
  {
   "cell_type": "code",
   "execution_count": 200,
   "id": "ee15ff13",
   "metadata": {},
   "outputs": [],
   "source": [
    "if len(response_text) > 0:\n",
    "    df = pd.read_csv(StringIO(response_text),index_col='Timestamp',parse_dates=True)\n",
    "    df.rename(columns={\"Field\": \"tagName\",\"Timestamp\": \"eventTimeStamp\"},inplace=True)\n",
    "    df.index.rename(\"eventTimeStamp\",inplace=True)"
   ]
  },
  {
   "cell_type": "code",
   "execution_count": null,
   "id": "43af3b1a",
   "metadata": {},
   "outputs": [],
   "source": [
    "if len(response_text) > 0:\n",
    "    #df = pd.read_csv(StringIO(response_text))\n",
    "    df = pd.read_csv(StringIO(response_text),index_col='Timestamp',parse_dates=True)\n",
    "    df.rename(columns={\"Field\": \"tagName\",\"Timestamp\": \"eventTimeStamp\"},inplace=True)\n",
    "    df.index.rename(\"eventTimeStamp\",inplace=True)"
   ]
  },
  {
   "cell_type": "code",
   "execution_count": 201,
   "id": "ecd70cb5",
   "metadata": {},
   "outputs": [
    {
     "name": "stdout",
     "output_type": "stream",
     "text": [
      "<class 'pandas.core.frame.DataFrame'>\n",
      "DatetimeIndex: 61217 entries, 2022-02-11 00:00:00+00:00 to 2022-02-11 01:00:00+00:00\n",
      "Data columns (total 3 columns):\n",
      " #   Column   Non-Null Count  Dtype  \n",
      "---  ------   --------------  -----  \n",
      " 0   assetId  61217 non-null  object \n",
      " 1   tagName  61217 non-null  object \n",
      " 2   Value    61217 non-null  float64\n",
      "dtypes: float64(1), object(2)\n",
      "memory usage: 1.9+ MB\n"
     ]
    }
   ],
   "source": [
    "df.info()"
   ]
  },
  {
   "cell_type": "code",
   "execution_count": 202,
   "id": "a46d98c9",
   "metadata": {},
   "outputs": [
    {
     "data": {
      "text/html": [
       "<div>\n",
       "<style scoped>\n",
       "    .dataframe tbody tr th:only-of-type {\n",
       "        vertical-align: middle;\n",
       "    }\n",
       "\n",
       "    .dataframe tbody tr th {\n",
       "        vertical-align: top;\n",
       "    }\n",
       "\n",
       "    .dataframe thead th {\n",
       "        text-align: right;\n",
       "    }\n",
       "</style>\n",
       "<table border=\"1\" class=\"dataframe\">\n",
       "  <thead>\n",
       "    <tr style=\"text-align: right;\">\n",
       "      <th></th>\n",
       "      <th>assetId</th>\n",
       "      <th>tagName</th>\n",
       "      <th>Value</th>\n",
       "    </tr>\n",
       "    <tr>\n",
       "      <th>eventTimeStamp</th>\n",
       "      <th></th>\n",
       "      <th></th>\n",
       "      <th></th>\n",
       "    </tr>\n",
       "  </thead>\n",
       "  <tbody>\n",
       "    <tr>\n",
       "      <th>2022-02-11 00:00:00+00:00</th>\n",
       "      <td>Hydraulic test bench</td>\n",
       "      <td>Cooling_efficiency</td>\n",
       "      <td>47.202</td>\n",
       "    </tr>\n",
       "    <tr>\n",
       "      <th>2022-02-11 00:00:01+00:00</th>\n",
       "      <td>Hydraulic test bench</td>\n",
       "      <td>Cooling_efficiency</td>\n",
       "      <td>47.273</td>\n",
       "    </tr>\n",
       "    <tr>\n",
       "      <th>2022-02-11 00:00:02+00:00</th>\n",
       "      <td>Hydraulic test bench</td>\n",
       "      <td>Cooling_efficiency</td>\n",
       "      <td>47.250</td>\n",
       "    </tr>\n",
       "    <tr>\n",
       "      <th>2022-02-11 00:00:03+00:00</th>\n",
       "      <td>Hydraulic test bench</td>\n",
       "      <td>Cooling_efficiency</td>\n",
       "      <td>47.332</td>\n",
       "    </tr>\n",
       "    <tr>\n",
       "      <th>2022-02-11 00:00:04+00:00</th>\n",
       "      <td>Hydraulic test bench</td>\n",
       "      <td>Cooling_efficiency</td>\n",
       "      <td>47.213</td>\n",
       "    </tr>\n",
       "  </tbody>\n",
       "</table>\n",
       "</div>"
      ],
      "text/plain": [
       "                                        assetId             tagName   Value\n",
       "eventTimeStamp                                                             \n",
       "2022-02-11 00:00:00+00:00  Hydraulic test bench  Cooling_efficiency  47.202\n",
       "2022-02-11 00:00:01+00:00  Hydraulic test bench  Cooling_efficiency  47.273\n",
       "2022-02-11 00:00:02+00:00  Hydraulic test bench  Cooling_efficiency  47.250\n",
       "2022-02-11 00:00:03+00:00  Hydraulic test bench  Cooling_efficiency  47.332\n",
       "2022-02-11 00:00:04+00:00  Hydraulic test bench  Cooling_efficiency  47.213"
      ]
     },
     "execution_count": 202,
     "metadata": {},
     "output_type": "execute_result"
    }
   ],
   "source": [
    "df.head()"
   ]
  },
  {
   "cell_type": "code",
   "execution_count": 203,
   "id": "26cc5bc7",
   "metadata": {},
   "outputs": [
    {
     "data": {
      "text/plain": [
       "LoadJob<project=aveva-gcp-accelerator-dev, location=US, id=d31d32a1-216c-41d9-ad27-de3d425ff722>"
      ]
     },
     "execution_count": 203,
     "metadata": {},
     "output_type": "execute_result"
    }
   ],
   "source": [
    "# write response from ADH to BigQuery\n",
    "client = bigquery.Client()\n",
    "table_id = parameters['bigquery_table_ingress']\n",
    "job_config = bigquery.LoadJobConfig(schema=[\n",
    "    bigquery.SchemaField(\"assetId\", \"STRING\"),\n",
    "    bigquery.SchemaField(\"tagName\", \"STRING\"),\n",
    "])\n",
    "job = client.load_table_from_dataframe(\n",
    "    df, table_id, job_config=job_config\n",
    ")\n",
    "job.result()"
   ]
  },
  {
   "cell_type": "code",
   "execution_count": 208,
   "id": "f68b2bcc",
   "metadata": {},
   "outputs": [
    {
     "data": {
      "text/plain": [
       "'DONE'"
      ]
     },
     "execution_count": 208,
     "metadata": {},
     "output_type": "execute_result"
    }
   ],
   "source": [
    "job.state"
   ]
  },
  {
   "cell_type": "markdown",
   "id": "680be60d",
   "metadata": {},
   "source": [
    "# auth"
   ]
  },
  {
   "cell_type": "code",
   "execution_count": 230,
   "id": "b06db28f",
   "metadata": {},
   "outputs": [
    {
     "name": "stderr",
     "output_type": "stream",
     "text": [
      "E0327 00:14:28.326263269   31031 fork_posix.cc:70]           Fork support is only compatible with the epoll1 and poll polling strategies\n"
     ]
    },
    {
     "name": "stdout",
     "output_type": "stream",
     "text": [
      "                        Credentialed Accounts\n",
      "ACTIVE  ACCOUNT\n",
      "*       326764451207-compute@developer.gserviceaccount.com\n",
      "        anom-detect@aveva-gcp-accelerator-dev.iam.gserviceaccount.com\n",
      "\n",
      "To set the active account, run:\n",
      "    $ gcloud config set account `ACCOUNT`\n",
      "\n"
     ]
    }
   ],
   "source": [
    "!gcloud auth list"
   ]
  },
  {
   "cell_type": "markdown",
   "id": "bcb4be5b",
   "metadata": {},
   "source": [
    "# read inference results from Big Query"
   ]
  },
  {
   "cell_type": "code",
   "execution_count": null,
   "id": "4fe571e4",
   "metadata": {},
   "outputs": [],
   "source": [
    "# load/verify magic commands\n",
    "%load_ext google.cloud.bigquery"
   ]
  },
  {
   "cell_type": "code",
   "execution_count": 305,
   "id": "c9c85160",
   "metadata": {},
   "outputs": [
    {
     "data": {
      "text/html": [
       "<div>\n",
       "<style scoped>\n",
       "    .dataframe tbody tr th:only-of-type {\n",
       "        vertical-align: middle;\n",
       "    }\n",
       "\n",
       "    .dataframe tbody tr th {\n",
       "        vertical-align: top;\n",
       "    }\n",
       "\n",
       "    .dataframe thead th {\n",
       "        text-align: right;\n",
       "    }\n",
       "</style>\n",
       "<table border=\"1\" class=\"dataframe\">\n",
       "  <thead>\n",
       "    <tr style=\"text-align: right;\">\n",
       "      <th></th>\n",
       "      <th>eventTimeStamp</th>\n",
       "      <th>timestamp</th>\n",
       "      <th>tagName</th>\n",
       "      <th>value</th>\n",
       "      <th>stream_id</th>\n",
       "    </tr>\n",
       "  </thead>\n",
       "  <tbody>\n",
       "    <tr>\n",
       "      <th>0</th>\n",
       "      <td>2022-01-17 01:06:46.471000+00:00</td>\n",
       "      <td>1642381606471</td>\n",
       "      <td>FC18HotWaterValve</td>\n",
       "      <td>0</td>\n",
       "      <td>10_12_2021_1634041111037</td>\n",
       "    </tr>\n",
       "    <tr>\n",
       "      <th>1</th>\n",
       "      <td>2022-01-17 01:06:46.471000+00:00</td>\n",
       "      <td>1642381606471</td>\n",
       "      <td>FC20Setpoint_error</td>\n",
       "      <td>3.984684153460437</td>\n",
       "      <td>10_12_2021_1634041111037</td>\n",
       "    </tr>\n",
       "    <tr>\n",
       "      <th>2</th>\n",
       "      <td>2022-01-17 01:06:46.471000+00:00</td>\n",
       "      <td>1642381606471</td>\n",
       "      <td>FC18HotWaterValve_error</td>\n",
       "      <td>3.9855989497311346</td>\n",
       "      <td>10_12_2021_1634041111037</td>\n",
       "    </tr>\n",
       "    <tr>\n",
       "      <th>3</th>\n",
       "      <td>2022-01-17 01:06:46.471000+00:00</td>\n",
       "      <td>1642381606471</td>\n",
       "      <td>FC23Setpoint</td>\n",
       "      <td>0</td>\n",
       "      <td>10_12_2021_1634041111037</td>\n",
       "    </tr>\n",
       "    <tr>\n",
       "      <th>4</th>\n",
       "      <td>2022-01-17 01:06:46.471000+00:00</td>\n",
       "      <td>1642381606471</td>\n",
       "      <td>FC23Setpoint_error</td>\n",
       "      <td>3.9849862026040954</td>\n",
       "      <td>10_12_2021_1634041111037</td>\n",
       "    </tr>\n",
       "    <tr>\n",
       "      <th>5</th>\n",
       "      <td>2022-01-17 01:06:46.471000+00:00</td>\n",
       "      <td>1642381606471</td>\n",
       "      <td>AHU4ColdWaterValve</td>\n",
       "      <td>10</td>\n",
       "      <td>10_12_2021_1634041111037</td>\n",
       "    </tr>\n",
       "    <tr>\n",
       "      <th>6</th>\n",
       "      <td>2022-01-17 01:06:46.471000+00:00</td>\n",
       "      <td>1642381606471</td>\n",
       "      <td>min_max_FC20Setpoint</td>\n",
       "      <td>0</td>\n",
       "      <td>10_12_2021_1634041111037</td>\n",
       "    </tr>\n",
       "    <tr>\n",
       "      <th>7</th>\n",
       "      <td>2022-01-17 01:06:46.471000+00:00</td>\n",
       "      <td>1642381606471</td>\n",
       "      <td>min_max_AHU4ColdWaterValve</td>\n",
       "      <td>10</td>\n",
       "      <td>10_12_2021_1634041111037</td>\n",
       "    </tr>\n",
       "    <tr>\n",
       "      <th>8</th>\n",
       "      <td>2022-01-17 01:06:46.471000+00:00</td>\n",
       "      <td>1642381606471</td>\n",
       "      <td>predicted_AHU4ColdWaterValve_error</td>\n",
       "      <td>24.929768771066524</td>\n",
       "      <td>10_12_2021_1634041111037</td>\n",
       "    </tr>\n",
       "    <tr>\n",
       "      <th>9</th>\n",
       "      <td>2022-01-17 01:06:46.471000+00:00</td>\n",
       "      <td>1642381606471</td>\n",
       "      <td>predicted_Panel2Power_error</td>\n",
       "      <td>24.926472403339712</td>\n",
       "      <td>10_12_2021_1634041111037</td>\n",
       "    </tr>\n",
       "  </tbody>\n",
       "</table>\n",
       "</div>"
      ],
      "text/plain": [
       "                    eventTimeStamp      timestamp  \\\n",
       "0 2022-01-17 01:06:46.471000+00:00  1642381606471   \n",
       "1 2022-01-17 01:06:46.471000+00:00  1642381606471   \n",
       "2 2022-01-17 01:06:46.471000+00:00  1642381606471   \n",
       "3 2022-01-17 01:06:46.471000+00:00  1642381606471   \n",
       "4 2022-01-17 01:06:46.471000+00:00  1642381606471   \n",
       "5 2022-01-17 01:06:46.471000+00:00  1642381606471   \n",
       "6 2022-01-17 01:06:46.471000+00:00  1642381606471   \n",
       "7 2022-01-17 01:06:46.471000+00:00  1642381606471   \n",
       "8 2022-01-17 01:06:46.471000+00:00  1642381606471   \n",
       "9 2022-01-17 01:06:46.471000+00:00  1642381606471   \n",
       "\n",
       "                              tagName               value  \\\n",
       "0                   FC18HotWaterValve                   0   \n",
       "1                  FC20Setpoint_error   3.984684153460437   \n",
       "2             FC18HotWaterValve_error  3.9855989497311346   \n",
       "3                        FC23Setpoint                   0   \n",
       "4                  FC23Setpoint_error  3.9849862026040954   \n",
       "5                  AHU4ColdWaterValve                  10   \n",
       "6                min_max_FC20Setpoint                   0   \n",
       "7          min_max_AHU4ColdWaterValve                  10   \n",
       "8  predicted_AHU4ColdWaterValve_error  24.929768771066524   \n",
       "9         predicted_Panel2Power_error  24.926472403339712   \n",
       "\n",
       "                  stream_id  \n",
       "0  10_12_2021_1634041111037  \n",
       "1  10_12_2021_1634041111037  \n",
       "2  10_12_2021_1634041111037  \n",
       "3  10_12_2021_1634041111037  \n",
       "4  10_12_2021_1634041111037  \n",
       "5  10_12_2021_1634041111037  \n",
       "6  10_12_2021_1634041111037  \n",
       "7  10_12_2021_1634041111037  \n",
       "8  10_12_2021_1634041111037  \n",
       "9  10_12_2021_1634041111037  "
      ]
     },
     "execution_count": 305,
     "metadata": {},
     "output_type": "execute_result"
    }
   ],
   "source": [
    "from google.cloud import bigquery\n",
    "\n",
    "bqclient = bigquery.Client()\n",
    "\n",
    "sql =\"\"\"SELECT timestamp_millis(cast(timestamp as int64)) as eventTimeStamp,* FROM `{}` LIMIT 10\"\"\"\n",
    "query=sql.format(configuration['bigquery_table_egress'])\n",
    "query=sql.format(configuration['bigquery_table_egress_test'])\n",
    "#query=sql.format(\"aveva-gcp-accelerator-dev.Test.Test\")\n",
    "#query=sql.format(\"ind-ai-pdm-sln-dev.ind_ai_pdm_sln_dev_bq_streaming.smart_factory_streaming_results_v2\")\n",
    "\n",
    "bq_result = bqclient.query(query)\n",
    "df = bq_result.to_dataframe()\n",
    "df.drop(labels=['asset'],axis=1,inplace=True)\n",
    "df"
   ]
  },
  {
   "cell_type": "code",
   "execution_count": 307,
   "id": "bd90d096",
   "metadata": {},
   "outputs": [],
   "source": [
    "#pprint.pprint(json.loads(df.to_json(orient='records',date_format='iso')))\n",
    "ocsClient.Streams.updateValues(namespace_id,'anomaly_detection_inference_test',df.to_json(orient='records',date_format='iso'))"
   ]
  },
  {
   "cell_type": "markdown",
   "id": "04244b67",
   "metadata": {},
   "source": [
    "# create AVEVA(tm) Data Hub type and stream for inference results"
   ]
  },
  {
   "cell_type": "code",
   "execution_count": 279,
   "id": "93ef46f4",
   "metadata": {},
   "outputs": [],
   "source": [
    "# create a type\n",
    "\n",
    "# Dictionary to describe information about the type\n",
    "thetype = {'sdstypecode': SdsTypeCode.Object, \n",
    "           'id': 'anomaly_detection_inference',\n",
    "           'name': 'anomaly_detection_inference', \n",
    "           'description': 'gc anomaly detection model inference'}\n",
    "\n",
    "# sds type properties\n",
    "timestamp_property = SdsTypeProperty()\n",
    "timestamp_property.Id = \"eventTimestamp\"\n",
    "timestamp_property.SdsType = SdsType.fromJson({\"SdsTypeCode\": SdsTypeCode.DateTime.value})\n",
    "timestamp_property.IsKey = True\n",
    "\n",
    "channel_property =  SdsTypeProperty()\n",
    "channel_property.Id = \"timestamp\"\n",
    "channel_property.SdsType = SdsType.fromJson({\"SdsTypeCode\" : SdsTypeCode.Decimal.value})\n",
    "\n",
    "channel1_property =  SdsTypeProperty()\n",
    "channel1_property.Id = \"tagName\"\n",
    "channel1_property.SdsType = SdsType.fromJson({\"SdsTypeCode\" : SdsTypeCode.String.value})\n",
    "\n",
    "channel2_property =  SdsTypeProperty()\n",
    "channel2_property.Id = \"value\"\n",
    "channel2_property.SdsType = SdsType.fromJson({\"SdsTypeCode\" : SdsTypeCode.Double.value})\n",
    "\n",
    "channel3_property =  SdsTypeProperty()\n",
    "channel3_property.Id = \"asset\"\n",
    "channel3_property.SdsType = SdsType.fromJson({\"SdsTypeCode\" : SdsTypeCode.String.value})\n",
    "\n",
    "channel4_property =  SdsTypeProperty()\n",
    "channel4_property.Id = \"stream_id\"\n",
    "channel4_property.SdsType = SdsType.fromJson({\"SdsTypeCode\" : SdsTypeCode.String.value})\n",
    "\n",
    "# sds type defintion\n",
    "bearing = SdsType()\n",
    "bearing.Id = thetype['id']\n",
    "bearing.SdsTypeCode = thetype['sdstypecode']\n",
    "bearing.Name = thetype['name']\n",
    "bearing.Description=thetype['description']\n",
    "bearing.Properties = [timestamp_property\n",
    "                      ,channel_property\n",
    "                      ,channel1_property\n",
    "                      ,channel2_property\n",
    "                      ,channel3_property\n",
    "                      ,channel4_property]\n",
    "\n",
    "bearing_type = ocsClient.Types.getOrCreateType(namespace_id, bearing)"
   ]
  },
  {
   "cell_type": "code",
   "execution_count": 288,
   "id": "7cf08ed4",
   "metadata": {},
   "outputs": [],
   "source": [
    "stream_ad = SdsStream(id=f'anomaly_detection_inference_test',\n",
    "            name=f'anomaly_detection_inference_test', \n",
    "            description=f'anomaly detection inference test', \n",
    "            type_id=f'anomaly_detection_inference')\n",
    "stream = ocsClient.Streams.createOrUpdateStream(namespace_id,stream_ad)"
   ]
  }
 ],
 "metadata": {
  "environment": {
   "name": "common-cpu.m78",
   "type": "gcloud",
   "uri": "gcr.io/deeplearning-platform-release/base-cpu:m78"
  },
  "kernelspec": {
   "display_name": "Python 3",
   "language": "python",
   "name": "python3"
  },
  "language_info": {
   "codemirror_mode": {
    "name": "ipython",
    "version": 3
   },
   "file_extension": ".py",
   "mimetype": "text/x-python",
   "name": "python",
   "nbconvert_exporter": "python",
   "pygments_lexer": "ipython3",
   "version": "3.7.10"
  }
 },
 "nbformat": 4,
 "nbformat_minor": 5
}
