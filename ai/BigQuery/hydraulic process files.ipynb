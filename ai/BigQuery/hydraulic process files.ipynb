{
 "cells": [
  {
   "cell_type": "markdown",
   "metadata": {},
   "source": [
    "# re-sample input files"
   ]
  },
  {
   "cell_type": "code",
   "execution_count": 2,
   "metadata": {
    "scrolled": true
   },
   "outputs": [
    {
     "name": "stdout",
     "output_type": "stream",
     "text": [
      "Collecting google-cloud-storage\n",
      "  Using cached google_cloud_storage-1.33.0-py2.py3-none-any.whl (92 kB)\n",
      "Collecting jupyter\n",
      "  Downloading jupyter-1.0.0-py2.py3-none-any.whl (2.7 kB)\n",
      "Requirement already satisfied, skipping upgrade: requests<3.0.0dev,>=2.18.0 in /opt/conda/lib/python3.7/site-packages (from google-cloud-storage) (2.24.0)\n",
      "Collecting google-resumable-media<2.0dev,>=1.0.0\n",
      "  Using cached google_resumable_media-1.1.0-py2.py3-none-any.whl (75 kB)\n",
      "Requirement already satisfied, skipping upgrade: google-cloud-core<2.0dev,>=1.4.1 in /opt/conda/lib/python3.7/site-packages (from google-cloud-storage) (1.4.4)\n",
      "Requirement already satisfied, skipping upgrade: google-auth<2.0dev,>=1.11.0 in /opt/conda/lib/python3.7/site-packages (from google-cloud-storage) (1.20.1)\n",
      "Requirement already satisfied, skipping upgrade: jupyter-console in /opt/conda/lib/python3.7/site-packages (from jupyter) (6.1.0)\n",
      "Requirement already satisfied, skipping upgrade: ipywidgets in /opt/conda/lib/python3.7/site-packages (from jupyter) (7.5.1)\n",
      "Requirement already satisfied, skipping upgrade: ipykernel in /opt/conda/lib/python3.7/site-packages (from jupyter) (5.3.4)\n",
      "Requirement already satisfied, skipping upgrade: notebook in /opt/conda/lib/python3.7/site-packages (from jupyter) (6.1.3)\n",
      "Requirement already satisfied, skipping upgrade: qtconsole in /opt/conda/lib/python3.7/site-packages (from jupyter) (4.7.6)\n",
      "Requirement already satisfied, skipping upgrade: nbconvert in /opt/conda/lib/python3.7/site-packages (from jupyter) (5.6.1)\n",
      "Requirement already satisfied, skipping upgrade: certifi>=2017.4.17 in /opt/conda/lib/python3.7/site-packages (from requests<3.0.0dev,>=2.18.0->google-cloud-storage) (2020.6.20)\n",
      "Requirement already satisfied, skipping upgrade: idna<3,>=2.5 in /opt/conda/lib/python3.7/site-packages (from requests<3.0.0dev,>=2.18.0->google-cloud-storage) (2.10)\n",
      "Requirement already satisfied, skipping upgrade: chardet<4,>=3.0.2 in /opt/conda/lib/python3.7/site-packages (from requests<3.0.0dev,>=2.18.0->google-cloud-storage) (3.0.4)\n",
      "Requirement already satisfied, skipping upgrade: urllib3!=1.25.0,!=1.25.1,<1.26,>=1.21.1 in /opt/conda/lib/python3.7/site-packages (from requests<3.0.0dev,>=2.18.0->google-cloud-storage) (1.25.10)\n",
      "Collecting google-crc32c<2.0dev,>=1.0; python_version >= \"3.5\"\n",
      "  Using cached google_crc32c-1.0.0-cp37-cp37m-manylinux2010_x86_64.whl (39 kB)\n",
      "Requirement already satisfied, skipping upgrade: six in /opt/conda/lib/python3.7/site-packages (from google-resumable-media<2.0dev,>=1.0.0->google-cloud-storage) (1.15.0)\n",
      "Requirement already satisfied, skipping upgrade: google-api-core<2.0.0dev,>=1.21.0 in /opt/conda/lib/python3.7/site-packages (from google-cloud-core<2.0dev,>=1.4.1->google-cloud-storage) (1.23.0)\n",
      "Requirement already satisfied, skipping upgrade: rsa<5,>=3.1.4; python_version >= \"3.5\" in /opt/conda/lib/python3.7/site-packages (from google-auth<2.0dev,>=1.11.0->google-cloud-storage) (4.6)\n",
      "Requirement already satisfied, skipping upgrade: cachetools<5.0,>=2.0.0 in /opt/conda/lib/python3.7/site-packages (from google-auth<2.0dev,>=1.11.0->google-cloud-storage) (3.1.1)\n",
      "Requirement already satisfied, skipping upgrade: pyasn1-modules>=0.2.1 in /opt/conda/lib/python3.7/site-packages (from google-auth<2.0dev,>=1.11.0->google-cloud-storage) (0.2.7)\n",
      "Requirement already satisfied, skipping upgrade: setuptools>=40.3.0 in /opt/conda/lib/python3.7/site-packages (from google-auth<2.0dev,>=1.11.0->google-cloud-storage) (49.6.0.post20200814)\n",
      "Requirement already satisfied, skipping upgrade: ipython in /opt/conda/lib/python3.7/site-packages (from jupyter-console->jupyter) (7.17.0)\n",
      "Requirement already satisfied, skipping upgrade: pygments in /opt/conda/lib/python3.7/site-packages (from jupyter-console->jupyter) (2.6.1)\n",
      "Requirement already satisfied, skipping upgrade: prompt-toolkit!=3.0.0,!=3.0.1,<3.1.0,>=2.0.0 in /opt/conda/lib/python3.7/site-packages (from jupyter-console->jupyter) (3.0.6)\n",
      "Requirement already satisfied, skipping upgrade: jupyter-client in /opt/conda/lib/python3.7/site-packages (from jupyter-console->jupyter) (6.1.6)\n",
      "Requirement already satisfied, skipping upgrade: nbformat>=4.2.0 in /opt/conda/lib/python3.7/site-packages (from ipywidgets->jupyter) (5.0.7)\n",
      "Requirement already satisfied, skipping upgrade: widgetsnbextension~=3.5.0 in /opt/conda/lib/python3.7/site-packages (from ipywidgets->jupyter) (3.5.1)\n",
      "Requirement already satisfied, skipping upgrade: traitlets>=4.3.1 in /opt/conda/lib/python3.7/site-packages (from ipywidgets->jupyter) (4.3.3)\n",
      "Requirement already satisfied, skipping upgrade: tornado>=4.2 in /opt/conda/lib/python3.7/site-packages (from ipykernel->jupyter) (6.0.4)\n",
      "Requirement already satisfied, skipping upgrade: pyzmq>=17 in /opt/conda/lib/python3.7/site-packages (from notebook->jupyter) (19.0.2)\n",
      "Requirement already satisfied, skipping upgrade: prometheus-client in /opt/conda/lib/python3.7/site-packages (from notebook->jupyter) (0.8.0)\n",
      "Requirement already satisfied, skipping upgrade: ipython-genutils in /opt/conda/lib/python3.7/site-packages (from notebook->jupyter) (0.2.0)\n",
      "Requirement already satisfied, skipping upgrade: jupyter-core>=4.6.1 in /opt/conda/lib/python3.7/site-packages (from notebook->jupyter) (4.6.3)\n",
      "Requirement already satisfied, skipping upgrade: Send2Trash in /opt/conda/lib/python3.7/site-packages (from notebook->jupyter) (1.5.0)\n",
      "Requirement already satisfied, skipping upgrade: terminado>=0.8.3 in /opt/conda/lib/python3.7/site-packages (from notebook->jupyter) (0.8.3)\n",
      "Requirement already satisfied, skipping upgrade: argon2-cffi in /opt/conda/lib/python3.7/site-packages (from notebook->jupyter) (20.1.0)\n",
      "Requirement already satisfied, skipping upgrade: jinja2 in /opt/conda/lib/python3.7/site-packages (from notebook->jupyter) (2.11.2)\n",
      "Requirement already satisfied, skipping upgrade: qtpy in /opt/conda/lib/python3.7/site-packages (from qtconsole->jupyter) (1.9.0)\n",
      "Requirement already satisfied, skipping upgrade: testpath in /opt/conda/lib/python3.7/site-packages (from nbconvert->jupyter) (0.4.4)\n",
      "Requirement already satisfied, skipping upgrade: bleach in /opt/conda/lib/python3.7/site-packages (from nbconvert->jupyter) (3.1.5)\n",
      "Requirement already satisfied, skipping upgrade: defusedxml in /opt/conda/lib/python3.7/site-packages (from nbconvert->jupyter) (0.6.0)\n",
      "Requirement already satisfied, skipping upgrade: pandocfilters>=1.4.1 in /opt/conda/lib/python3.7/site-packages (from nbconvert->jupyter) (1.4.2)\n",
      "Requirement already satisfied, skipping upgrade: mistune<2,>=0.8.1 in /opt/conda/lib/python3.7/site-packages (from nbconvert->jupyter) (0.8.4)\n",
      "Requirement already satisfied, skipping upgrade: entrypoints>=0.2.2 in /opt/conda/lib/python3.7/site-packages (from nbconvert->jupyter) (0.3)\n",
      "Requirement already satisfied, skipping upgrade: cffi>=1.0.0 in /opt/conda/lib/python3.7/site-packages (from google-crc32c<2.0dev,>=1.0; python_version >= \"3.5\"->google-resumable-media<2.0dev,>=1.0.0->google-cloud-storage) (1.14.1)\n",
      "Requirement already satisfied, skipping upgrade: pytz in /opt/conda/lib/python3.7/site-packages (from google-api-core<2.0.0dev,>=1.21.0->google-cloud-core<2.0dev,>=1.4.1->google-cloud-storage) (2020.1)\n",
      "Requirement already satisfied, skipping upgrade: googleapis-common-protos<2.0dev,>=1.6.0 in /opt/conda/lib/python3.7/site-packages (from google-api-core<2.0.0dev,>=1.21.0->google-cloud-core<2.0dev,>=1.4.1->google-cloud-storage) (1.52.0)\n",
      "Requirement already satisfied, skipping upgrade: protobuf>=3.12.0 in /opt/conda/lib/python3.7/site-packages (from google-api-core<2.0.0dev,>=1.21.0->google-cloud-core<2.0dev,>=1.4.1->google-cloud-storage) (3.12.4)\n",
      "Requirement already satisfied, skipping upgrade: pyasn1>=0.1.3 in /opt/conda/lib/python3.7/site-packages (from rsa<5,>=3.1.4; python_version >= \"3.5\"->google-auth<2.0dev,>=1.11.0->google-cloud-storage) (0.4.8)\n",
      "Requirement already satisfied, skipping upgrade: decorator in /opt/conda/lib/python3.7/site-packages (from ipython->jupyter-console->jupyter) (4.4.2)\n",
      "Requirement already satisfied, skipping upgrade: jedi>=0.10 in /opt/conda/lib/python3.7/site-packages (from ipython->jupyter-console->jupyter) (0.17.1)\n",
      "Requirement already satisfied, skipping upgrade: pickleshare in /opt/conda/lib/python3.7/site-packages (from ipython->jupyter-console->jupyter) (0.7.5)\n",
      "Requirement already satisfied, skipping upgrade: backcall in /opt/conda/lib/python3.7/site-packages (from ipython->jupyter-console->jupyter) (0.2.0)\n",
      "Requirement already satisfied, skipping upgrade: pexpect; sys_platform != \"win32\" in /opt/conda/lib/python3.7/site-packages (from ipython->jupyter-console->jupyter) (4.8.0)\n",
      "Requirement already satisfied, skipping upgrade: wcwidth in /opt/conda/lib/python3.7/site-packages (from prompt-toolkit!=3.0.0,!=3.0.1,<3.1.0,>=2.0.0->jupyter-console->jupyter) (0.2.5)\n",
      "Requirement already satisfied, skipping upgrade: python-dateutil>=2.1 in /opt/conda/lib/python3.7/site-packages (from jupyter-client->jupyter-console->jupyter) (2.8.1)\n",
      "Requirement already satisfied, skipping upgrade: jsonschema!=2.5.0,>=2.4 in /opt/conda/lib/python3.7/site-packages (from nbformat>=4.2.0->ipywidgets->jupyter) (3.2.0)\n",
      "Requirement already satisfied, skipping upgrade: MarkupSafe>=0.23 in /opt/conda/lib/python3.7/site-packages (from jinja2->notebook->jupyter) (1.1.1)\n",
      "Requirement already satisfied, skipping upgrade: webencodings in /opt/conda/lib/python3.7/site-packages (from bleach->nbconvert->jupyter) (0.5.1)\n",
      "Requirement already satisfied, skipping upgrade: packaging in /opt/conda/lib/python3.7/site-packages (from bleach->nbconvert->jupyter) (20.4)\n",
      "Requirement already satisfied, skipping upgrade: pycparser in /opt/conda/lib/python3.7/site-packages (from cffi>=1.0.0->google-crc32c<2.0dev,>=1.0; python_version >= \"3.5\"->google-resumable-media<2.0dev,>=1.0.0->google-cloud-storage) (2.20)\n",
      "Requirement already satisfied, skipping upgrade: parso<0.8.0,>=0.7.0 in /opt/conda/lib/python3.7/site-packages (from jedi>=0.10->ipython->jupyter-console->jupyter) (0.7.0)\n",
      "Requirement already satisfied, skipping upgrade: ptyprocess>=0.5 in /opt/conda/lib/python3.7/site-packages (from pexpect; sys_platform != \"win32\"->ipython->jupyter-console->jupyter) (0.6.0)\n",
      "Requirement already satisfied, skipping upgrade: attrs>=17.4.0 in /opt/conda/lib/python3.7/site-packages (from jsonschema!=2.5.0,>=2.4->nbformat>=4.2.0->ipywidgets->jupyter) (20.1.0)\n",
      "Requirement already satisfied, skipping upgrade: pyrsistent>=0.14.0 in /opt/conda/lib/python3.7/site-packages (from jsonschema!=2.5.0,>=2.4->nbformat>=4.2.0->ipywidgets->jupyter) (0.16.0)\n",
      "Requirement already satisfied, skipping upgrade: importlib-metadata; python_version < \"3.8\" in /opt/conda/lib/python3.7/site-packages (from jsonschema!=2.5.0,>=2.4->nbformat>=4.2.0->ipywidgets->jupyter) (1.7.0)\n",
      "Requirement already satisfied, skipping upgrade: pyparsing>=2.0.2 in /opt/conda/lib/python3.7/site-packages (from packaging->bleach->nbconvert->jupyter) (2.4.7)\n",
      "Requirement already satisfied, skipping upgrade: zipp>=0.5 in /opt/conda/lib/python3.7/site-packages (from importlib-metadata; python_version < \"3.8\"->jsonschema!=2.5.0,>=2.4->nbformat>=4.2.0->ipywidgets->jupyter) (3.1.0)\n",
      "Installing collected packages: google-crc32c, google-resumable-media, google-cloud-storage, jupyter\n",
      "Successfully installed google-cloud-storage-1.33.0 google-crc32c-1.0.0 google-resumable-media-1.1.0 jupyter-1.0.0\n"
     ]
    }
   ],
   "source": [
    "!pip install --upgrade google-cloud-storage --user jupyter"
   ]
  },
  {
   "cell_type": "code",
   "execution_count": 3,
   "metadata": {},
   "outputs": [
    {
     "name": "stdout",
     "output_type": "stream",
     "text": [
      "Created service account [hydraulic].\n",
      "\n",
      "\n",
      "To take a quick anonymous survey, run:\n",
      "  $ gcloud survey\n",
      "\n"
     ]
    }
   ],
   "source": [
    "!gcloud iam service-accounts create hydraulic"
   ]
  },
  {
   "cell_type": "code",
   "execution_count": 10,
   "metadata": {},
   "outputs": [
    {
     "name": "stdout",
     "output_type": "stream",
     "text": [
      "gcloud projects add-iam-policy-binding osi-pi-gcp-accelerator --member=serviceAccount:hydraulic@osi-pi-gcp-accelerator.iam.gserviceaccount.com --role=roles/owner\n"
     ]
    }
   ],
   "source": [
    "!export PROJECT_ID='osi-pi-gcp-accelerator' export NAME='hydraulic'&& echo gcloud projects add-iam-policy-binding $PROJECT_ID --member=\"serviceAccount:$NAME@${PROJECT_ID}.iam.gserviceaccount.com\" --role=\"roles/owner\""
   ]
  },
  {
   "cell_type": "code",
   "execution_count": 15,
   "metadata": {},
   "outputs": [
    {
     "name": "stdout",
     "output_type": "stream",
     "text": [
      "gcloud iam service-accounts keys create hydraulic.json --iam-account=hydraulic@osi-pi-gcp-accelerator.iam.gserviceaccount.com\n"
     ]
    }
   ],
   "source": [
    "!export PROJECT_ID='osi-pi-gcp-accelerator' export NAME='hydraulic'&& echo gcloud iam service-accounts keys create $NAME.json --iam-account=$NAME@$PROJECT_ID.iam.gserviceaccount.com"
   ]
  },
  {
   "cell_type": "code",
   "execution_count": 36,
   "metadata": {},
   "outputs": [],
   "source": [
    "%%bash\n",
    "file=\"create-gs.py\"\n",
    "bucket='hydraulic'\n",
    "cat > $file <<EOF\n",
    "\n",
    "# Imports the Google Cloud client library\n",
    "from google.cloud import storage\n",
    "\n",
    "# Instantiates a client\n",
    "storage_client = storage.Client()\n",
    "\n",
    "# The name for the new bucket\n",
    "bucket_name = \"$bucket\"\n",
    "\n",
    "# Creates the new bucket\n",
    "bucket = storage_client.create_bucket(bucket_name)\n",
    "\n",
    "print(\"Bucket {} created.\".format(bucket.name))\n",
    "\n",
    "EOF\n",
    "chmod +x $file"
   ]
  },
  {
   "cell_type": "code",
   "execution_count": 37,
   "metadata": {},
   "outputs": [
    {
     "name": "stdout",
     "output_type": "stream",
     "text": [
      "Bucket hydraulic created.\n"
     ]
    }
   ],
   "source": [
    "!export GOOGLE_APPLICATION_CREDENTIALS=\"$HOME/working/hydraulic.json\" && python create-gs.py"
   ]
  },
  {
   "cell_type": "code",
   "execution_count": 38,
   "metadata": {},
   "outputs": [],
   "source": [
    "# on VM\n",
    "# gcloud auth activate-service-account --key-file=hydraulic.json\n",
    "# gsutil cp *  gs://hydraulic/ufl"
   ]
  },
  {
   "cell_type": "code",
   "execution_count": 114,
   "metadata": {},
   "outputs": [],
   "source": [
    "import pandas as pd\n",
    "import datetime"
   ]
  },
  {
   "cell_type": "code",
   "execution_count": 134,
   "metadata": {},
   "outputs": [],
   "source": [
    "from google.cloud import storage\n",
    "\n",
    "def download_blob(bucket_name, source_blob_name, destination_file_name):\n",
    "    \"\"\"Downloads a blob from the bucket.\"\"\"\n",
    "    # bucket_name = \"your-bucket-name\"\n",
    "    # source_blob_name = \"storage-object-name\"\n",
    "    # destination_file_name = \"local/path/to/file\"\n",
    "\n",
    "    storage_client = storage.Client()\n",
    "\n",
    "    bucket = storage_client.bucket(bucket_name)\n",
    "    blob = bucket.blob(source_blob_name)\n",
    "    blob.download_to_filename(destination_file_name)\n",
    "\n",
    "    print(\n",
    "        \"Blob {} downloaded to {}.\".format(\n",
    "            source_blob_name, destination_file_name\n",
    "        )\n",
    "    )\n",
    "    \n",
    "def list_blobs(bucket_name):\n",
    "    \"\"\"Lists all the blobs in the bucket.\"\"\"\n",
    "    # bucket_name = \"your-bucket-name\"\n",
    "\n",
    "    storage_client = storage.Client()\n",
    "\n",
    "    # Note: Client.list_blobs requires at least package version 1.17.0.\n",
    "    blobs = storage_client.list_blobs(bucket_name)\n",
    "\n",
    "    for blob in blobs:\n",
    "        print(blob.name)\n",
    "        \n",
    "def upload_blob(bucket_name, source_file_name, destination_blob_name):\n",
    "    \"\"\"Uploads a file to the bucket.\"\"\"\n",
    "    # bucket_name = \"your-bucket-name\"\n",
    "    # source_file_name = \"local/path/to/file\"\n",
    "    # destination_blob_name = \"storage-object-name\"\n",
    "\n",
    "    storage_client = storage.Client()\n",
    "    bucket = storage_client.bucket(bucket_name)\n",
    "    blob = bucket.blob(destination_blob_name)\n",
    "\n",
    "    blob.upload_from_filename(source_file_name)\n",
    "\n",
    "    print(\n",
    "        \"File {} uploaded to {}.\".format(\n",
    "            source_file_name, destination_blob_name\n",
    "        )\n",
    "    )"
   ]
  },
  {
   "cell_type": "code",
   "execution_count": 39,
   "metadata": {},
   "outputs": [
    {
     "name": "stdout",
     "output_type": "stream",
     "text": [
      "ufl/CE.csv\n",
      "ufl/CP.csv\n",
      "ufl/EPS1.csv\n",
      "ufl/FS1.csv\n",
      "ufl/FS2.csv\n",
      "ufl/PS1.csv\n",
      "ufl/PS2.csv\n",
      "ufl/PS3.csv\n",
      "ufl/PS4.csv\n",
      "ufl/PS5.csv\n",
      "ufl/PS6.csv\n",
      "ufl/SE.csv\n",
      "ufl/TS1.csv\n",
      "ufl/TS2.csv\n",
      "ufl/TS3.csv\n",
      "ufl/TS4.csv\n",
      "ufl/VS1-missing-values-add-these-manually-to-pi.csv\n",
      "ufl/VS1.csv\n",
      "ufl/hydraulic.json\n",
      "ufl/profile.csv\n"
     ]
    }
   ],
   "source": [
    "gsb='hydraulic'\n",
    "list_blobs(gsb)"
   ]
  },
  {
   "cell_type": "code",
   "execution_count": 46,
   "metadata": {},
   "outputs": [
    {
     "name": "stdout",
     "output_type": "stream",
     "text": [
      "Blob ufl/PS1.csv downloaded to PS1.csv.\n",
      "Blob ufl/PS2.csv downloaded to PS2.csv.\n",
      "Blob ufl/PS3.csv downloaded to PS3.csv.\n",
      "Blob ufl/PS4.csv downloaded to PS4.csv.\n",
      "Blob ufl/PS5.csv downloaded to PS5.csv.\n",
      "Blob ufl/PS6.csv downloaded to PS6.csv.\n"
     ]
    }
   ],
   "source": [
    "# process pressure files\n",
    "for suffix in range(1,7,1):\n",
    "    file=f\"ufl/PS{suffix}.csv\"\n",
    "    lfile=f\"PS{suffix}.csv\"\n",
    "    download_blob(gsb,file,lfile)"
   ]
  },
  {
   "cell_type": "code",
   "execution_count": 160,
   "metadata": {},
   "outputs": [],
   "source": [
    "# read a file downsample and write to new file\n",
    "def resample(lfile,timedelta,nfile_prefix):\n",
    "    df = pd.read_csv(lfile,sep='\\t',names=['tag','timestamp','value'])  # read file and  set column names\n",
    "    df['timestamp'] = pd.to_datetime(df['timestamp']) # format datetime\n",
    "    df.set_index('timestamp',inplace=True) \n",
    "    dftemp = df['value'].resample(timedelta).mean()  # downsample\n",
    "    tag = df['tag'][0]  # save tag name\n",
    "    df = dftemp.to_frame() # series to data frame\n",
    "    df['tag'] = tag  # add static column\n",
    "    df.reset_index(inplace=True)\n",
    "    df = df[['tag','timestamp','value']]  # order tags \n",
    "    # date format: 2020-02-11T00:00:00.000Z # millisecond is legacy TODO remove\n",
    "    df.to_csv(f\"{nfile_prefix}{lfile}\",sep='\\t',float_format=\"%.2f\",header=False,index=False,\n",
    "              date_format=\"%Y-%m-%dT%H:%M:%S.000Z\")\n",
    "    return df"
   ]
  },
  {
   "cell_type": "code",
   "execution_count": 161,
   "metadata": {},
   "outputs": [],
   "source": [
    "# process pressure files\n",
    "timedelta = datetime.timedelta(seconds=1)\n",
    "for suffix in range(1,7,1):\n",
    "    df = resample(f\"PS{suffix}.csv\",timedelta,\"f\")"
   ]
  },
  {
   "cell_type": "code",
   "execution_count": 162,
   "metadata": {},
   "outputs": [],
   "source": [
    "# process power file\n",
    "suffix=\"1\"\n",
    "file=f\"ufl/EPS{suffix}.csv\"\n",
    "lfile=f\"EPS{suffix}.csv\"\n",
    "#############download_blob(gsb,file,lfile)\n",
    "timedelta = datetime.timedelta(seconds=1)\n",
    "df = resample(lfile,timedelta,\"f\")"
   ]
  },
  {
   "cell_type": "code",
   "execution_count": 159,
   "metadata": {},
   "outputs": [],
   "source": [
    "# process flow files\n",
    "timedelta = datetime.timedelta(seconds=1)\n",
    "for suffix in range(1,3,1):\n",
    "    file=f\"ufl/FS{suffix}.csv\"\n",
    "    lfile=f\"FS{suffix}.csv\"\n",
    "    #########download_blob(gsb,file,lfile)\n",
    "    df = resample(lfile,timedelta,\"f\")"
   ]
  },
  {
   "cell_type": "code",
   "execution_count": 164,
   "metadata": {},
   "outputs": [],
   "source": [
    "import os\n",
    "import re\n",
    "\n",
    "files = os.listdir(path='.')\n",
    "filtered_files = [ file for file in files if re.search('^f.*csv$',file)]"
   ]
  },
  {
   "cell_type": "code",
   "execution_count": 165,
   "metadata": {},
   "outputs": [
    {
     "data": {
      "text/plain": [
       "['fFS1.csv',\n",
       " 'fPS5.csv',\n",
       " 'fPS1.csv',\n",
       " 'fPS4.csv',\n",
       " 'fFS2.csv',\n",
       " 'fPS2.csv',\n",
       " 'fPS3.csv',\n",
       " 'fEPS1.csv',\n",
       " 'fPS6.csv']"
      ]
     },
     "execution_count": 165,
     "metadata": {},
     "output_type": "execute_result"
    }
   ],
   "source": [
    "filtered_files"
   ]
  },
  {
   "cell_type": "code",
   "execution_count": 166,
   "metadata": {},
   "outputs": [
    {
     "name": "stdout",
     "output_type": "stream",
     "text": [
      "File fFS1.csv uploaded to ufl/fFS1.csv.\n",
      "File fPS5.csv uploaded to ufl/fPS5.csv.\n",
      "File fPS1.csv uploaded to ufl/fPS1.csv.\n",
      "File fPS4.csv uploaded to ufl/fPS4.csv.\n",
      "File fFS2.csv uploaded to ufl/fFS2.csv.\n",
      "File fPS2.csv uploaded to ufl/fPS2.csv.\n",
      "File fPS3.csv uploaded to ufl/fPS3.csv.\n",
      "File fEPS1.csv uploaded to ufl/fEPS1.csv.\n",
      "File fPS6.csv uploaded to ufl/fPS6.csv.\n"
     ]
    }
   ],
   "source": [
    "#def upload_blob(bucket_name, source_file_name, destination_blob_name):\n",
    "for lfile in filtered_files:\n",
    "    file=f\"ufl/{lfile}\"\n",
    "    upload_blob(gsb,lfile,file)"
   ]
  },
  {
   "cell_type": "code",
   "execution_count": null,
   "metadata": {},
   "outputs": [],
   "source": [
    "# on VM\n",
    "#gsutil cp gs://hydraulic/ufl/f* ."
   ]
  }
 ],
 "metadata": {
  "environment": {
   "name": "common-cpu.m55",
   "type": "gcloud",
   "uri": "gcr.io/deeplearning-platform-release/base-cpu:m55"
  },
  "kernelspec": {
   "display_name": "Python 3",
   "language": "python",
   "name": "python3"
  },
  "language_info": {
   "codemirror_mode": {
    "name": "ipython",
    "version": 3
   },
   "file_extension": ".py",
   "mimetype": "text/x-python",
   "name": "python",
   "nbconvert_exporter": "python",
   "pygments_lexer": "ipython3",
   "version": "3.7.8"
  }
 },
 "nbformat": 4,
 "nbformat_minor": 4
}
